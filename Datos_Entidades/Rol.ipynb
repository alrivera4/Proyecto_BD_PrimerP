{
  "nbformat": 4,
  "nbformat_minor": 0,
  "metadata": {
    "colab": {
      "provenance": []
    },
    "kernelspec": {
      "name": "python3",
      "display_name": "Python 3"
    },
    "language_info": {
      "name": "python"
    }
  },
  "cells": [
    {
      "cell_type": "markdown",
      "source": [
        "**Proyecto Final: Unidad 1**"
      ],
      "metadata": {
        "id": "kQY74FobSWCS"
      }
    },
    {
      "cell_type": "markdown",
      "source": [
        "**Entidad: Rol**"
      ],
      "metadata": {
        "id": "IPClHF0GtWxb"
      }
    },
    {
      "cell_type": "code",
      "execution_count": 1,
      "metadata": {
        "colab": {
          "base_uri": "https://localhost:8080/"
        },
        "id": "Hub1OuJnpjrm",
        "outputId": "f5912c98-a02e-4e83-d3e7-ff8539f981b3"
      },
      "outputs": [
        {
          "output_type": "stream",
          "name": "stdout",
          "text": [
            "Looking in indexes: https://pypi.org/simple, https://us-python.pkg.dev/colab-wheels/public/simple/\n",
            "Collecting Faker\n",
            "  Downloading Faker-15.3.4-py3-none-any.whl (1.6 MB)\n",
            "\u001b[K     |████████████████████████████████| 1.6 MB 5.2 MB/s \n",
            "\u001b[?25hRequirement already satisfied: python-dateutil>=2.4 in /usr/local/lib/python3.8/dist-packages (from Faker) (2.8.2)\n",
            "Requirement already satisfied: six>=1.5 in /usr/local/lib/python3.8/dist-packages (from python-dateutil>=2.4->Faker) (1.15.0)\n",
            "Installing collected packages: Faker\n",
            "Successfully installed Faker-15.3.4\n"
          ]
        }
      ],
      "source": [
        "#Faker es un paquete de Python que genera datos falsos.\n",
        "!pip install Faker"
      ]
    },
    {
      "cell_type": "code",
      "source": [
        "#Librerías necesarias para la generación de datos.\n",
        "import pandas as pd\n",
        "import uuid\n",
        "import random\n",
        "from faker import Faker\n",
        "import datetime\n",
        "\n",
        "#Librerías necesarias para el detalle o la descripción.\n",
        "import string\n",
        "import random\n",
        "from random import seed\n",
        "from datetime import datetime"
      ],
      "metadata": {
        "id": "NCQ-8FzEti-5"
      },
      "execution_count": 2,
      "outputs": []
    },
    {
      "cell_type": "code",
      "source": [
        "#Variable asignada para el tamaño del conjunto de datos. \n",
        "num_iess = 10000"
      ],
      "metadata": {
        "id": "9U_bDU8rtncp"
      },
      "execution_count": 3,
      "outputs": []
    },
    {
      "cell_type": "code",
      "source": [
        "#Lista de 3 características (Atributos)\n",
        "features = [\n",
        "    \"cod_Rol\",\n",
        "    \"nombre_Rol\",\n",
        "    \"detalle_Rol\",\n",
        "]# Creando un DF para estas características\n",
        "df = pd.DataFrame(columns=features)"
      ],
      "metadata": {
        "id": "Z8tlBQjptp5q"
      },
      "execution_count": 4,
      "outputs": []
    },
    {
      "cell_type": "markdown",
      "source": [
        "**cod_Rol**"
      ],
      "metadata": {
        "id": "ts1yLHTYvEi5"
      }
    },
    {
      "cell_type": "code",
      "source": [
        "#Biblioteca uuid para generar cadena aleatoria de datos para cod_Rol.\n",
        "df['cod_Rol'] = [uuid.uuid4().hex for i in range(num_iess)]"
      ],
      "metadata": {
        "id": "L17mpGzfwKgY"
      },
      "execution_count": 5,
      "outputs": []
    },
    {
      "cell_type": "code",
      "source": [
        "#Genera identificaciones únicas para cada usuario. Si todas las ID en el conjunto de datos son únicas, devuelve True.\n",
        "print(df['cod_Rol'].nunique()==num_iess)"
      ],
      "metadata": {
        "colab": {
          "base_uri": "https://localhost:8080/"
        },
        "id": "QahXVqCxwWso",
        "outputId": "a7e622c8-1760-45e6-fa00-9c13f7e005f4"
      },
      "execution_count": 6,
      "outputs": [
        {
          "output_type": "stream",
          "name": "stdout",
          "text": [
            "True\n"
          ]
        }
      ]
    },
    {
      "cell_type": "markdown",
      "source": [
        "**nombre_Rol**"
      ],
      "metadata": {
        "id": "8F17nUZpvHfx"
      }
    },
    {
      "cell_type": "code",
      "source": [
        "#Los diferentes nombres de roles.\n",
        "Nombre_Rol = ['Pensionista','Afiliado']\n",
        "#Creacion de los permisos para cada una de las filas\n",
        "df['nombre_Rol'] = random.choices(\n",
        "  Nombre_Rol, \n",
        "    weights=(25,25), \n",
        "    k=num_iess\n",
        ")"
      ],
      "metadata": {
        "id": "PNGyoTYjvMww"
      },
      "execution_count": 7,
      "outputs": []
    },
    {
      "cell_type": "markdown",
      "source": [
        "**detalle_Rol**"
      ],
      "metadata": {
        "id": "yjgB2J6hvJ6o"
      }
    },
    {
      "cell_type": "code",
      "source": [
        "#Variale tipo string junto con su longitud de cadena de caracteres.\n",
        "bio=[]\n",
        "length_of_string = 25\n",
        "#Crea el detalle del rol.\n",
        "for i in range(0, num_iess):\n",
        "  random.seed(datetime.now())\n",
        "  #La descripcion tiene todo tipo de caracteres.\n",
        "  bio=(''.join(random.SystemRandom().choice(string.ascii_letters + string.digits) for i in range(length_of_string)))\n",
        "  #Se guarda el detalle dle rol.\n",
        "  df.detalle_Rol[i] =bio"
      ],
      "metadata": {
        "id": "IydnGo4gxHIA"
      },
      "execution_count": 8,
      "outputs": []
    },
    {
      "cell_type": "code",
      "source": [
        "#Visualizar en la tabla los datos generados antes de descargar el excel.\n",
        "df.head(5)"
      ],
      "metadata": {
        "colab": {
          "base_uri": "https://localhost:8080/",
          "height": 206
        },
        "id": "-oWx9cfQwE1Z",
        "outputId": "3b5065e9-e436-4925-baec-36f7dce8d584"
      },
      "execution_count": 9,
      "outputs": [
        {
          "output_type": "execute_result",
          "data": {
            "text/plain": [
              "                            cod_Rol   nombre_Rol                detalle_Rol\n",
              "0  1814a440117540249a254068a231c647  Pensionista  apdIrJf1wv2KVwU0MlpRz1o6U\n",
              "1  e5ec2814e9db4aa296a40b012c940e64  Pensionista  z5CZLROfDYPn44bld0QAWC0ZI\n",
              "2  5926bf2668a44b058dbba7280a0fd2db     Afiliado  NTzJJGHwunlJJMYUtAW36F7Cs\n",
              "3  771e55e70243476f91806021ae55b227  Pensionista  VwALj6qkDVDUDxWoFckhvueNP\n",
              "4  be5cc12a36b84d358772cfeff65bf6b6  Pensionista  eEFTMa42B7y4OplAUteh0Dvkp"
            ],
            "text/html": [
              "\n",
              "  <div id=\"df-c29e6cca-6fff-4b62-b404-202d82202a0e\">\n",
              "    <div class=\"colab-df-container\">\n",
              "      <div>\n",
              "<style scoped>\n",
              "    .dataframe tbody tr th:only-of-type {\n",
              "        vertical-align: middle;\n",
              "    }\n",
              "\n",
              "    .dataframe tbody tr th {\n",
              "        vertical-align: top;\n",
              "    }\n",
              "\n",
              "    .dataframe thead th {\n",
              "        text-align: right;\n",
              "    }\n",
              "</style>\n",
              "<table border=\"1\" class=\"dataframe\">\n",
              "  <thead>\n",
              "    <tr style=\"text-align: right;\">\n",
              "      <th></th>\n",
              "      <th>cod_Rol</th>\n",
              "      <th>nombre_Rol</th>\n",
              "      <th>detalle_Rol</th>\n",
              "    </tr>\n",
              "  </thead>\n",
              "  <tbody>\n",
              "    <tr>\n",
              "      <th>0</th>\n",
              "      <td>1814a440117540249a254068a231c647</td>\n",
              "      <td>Pensionista</td>\n",
              "      <td>apdIrJf1wv2KVwU0MlpRz1o6U</td>\n",
              "    </tr>\n",
              "    <tr>\n",
              "      <th>1</th>\n",
              "      <td>e5ec2814e9db4aa296a40b012c940e64</td>\n",
              "      <td>Pensionista</td>\n",
              "      <td>z5CZLROfDYPn44bld0QAWC0ZI</td>\n",
              "    </tr>\n",
              "    <tr>\n",
              "      <th>2</th>\n",
              "      <td>5926bf2668a44b058dbba7280a0fd2db</td>\n",
              "      <td>Afiliado</td>\n",
              "      <td>NTzJJGHwunlJJMYUtAW36F7Cs</td>\n",
              "    </tr>\n",
              "    <tr>\n",
              "      <th>3</th>\n",
              "      <td>771e55e70243476f91806021ae55b227</td>\n",
              "      <td>Pensionista</td>\n",
              "      <td>VwALj6qkDVDUDxWoFckhvueNP</td>\n",
              "    </tr>\n",
              "    <tr>\n",
              "      <th>4</th>\n",
              "      <td>be5cc12a36b84d358772cfeff65bf6b6</td>\n",
              "      <td>Pensionista</td>\n",
              "      <td>eEFTMa42B7y4OplAUteh0Dvkp</td>\n",
              "    </tr>\n",
              "  </tbody>\n",
              "</table>\n",
              "</div>\n",
              "      <button class=\"colab-df-convert\" onclick=\"convertToInteractive('df-c29e6cca-6fff-4b62-b404-202d82202a0e')\"\n",
              "              title=\"Convert this dataframe to an interactive table.\"\n",
              "              style=\"display:none;\">\n",
              "        \n",
              "  <svg xmlns=\"http://www.w3.org/2000/svg\" height=\"24px\"viewBox=\"0 0 24 24\"\n",
              "       width=\"24px\">\n",
              "    <path d=\"M0 0h24v24H0V0z\" fill=\"none\"/>\n",
              "    <path d=\"M18.56 5.44l.94 2.06.94-2.06 2.06-.94-2.06-.94-.94-2.06-.94 2.06-2.06.94zm-11 1L8.5 8.5l.94-2.06 2.06-.94-2.06-.94L8.5 2.5l-.94 2.06-2.06.94zm10 10l.94 2.06.94-2.06 2.06-.94-2.06-.94-.94-2.06-.94 2.06-2.06.94z\"/><path d=\"M17.41 7.96l-1.37-1.37c-.4-.4-.92-.59-1.43-.59-.52 0-1.04.2-1.43.59L10.3 9.45l-7.72 7.72c-.78.78-.78 2.05 0 2.83L4 21.41c.39.39.9.59 1.41.59.51 0 1.02-.2 1.41-.59l7.78-7.78 2.81-2.81c.8-.78.8-2.07 0-2.86zM5.41 20L4 18.59l7.72-7.72 1.47 1.35L5.41 20z\"/>\n",
              "  </svg>\n",
              "      </button>\n",
              "      \n",
              "  <style>\n",
              "    .colab-df-container {\n",
              "      display:flex;\n",
              "      flex-wrap:wrap;\n",
              "      gap: 12px;\n",
              "    }\n",
              "\n",
              "    .colab-df-convert {\n",
              "      background-color: #E8F0FE;\n",
              "      border: none;\n",
              "      border-radius: 50%;\n",
              "      cursor: pointer;\n",
              "      display: none;\n",
              "      fill: #1967D2;\n",
              "      height: 32px;\n",
              "      padding: 0 0 0 0;\n",
              "      width: 32px;\n",
              "    }\n",
              "\n",
              "    .colab-df-convert:hover {\n",
              "      background-color: #E2EBFA;\n",
              "      box-shadow: 0px 1px 2px rgba(60, 64, 67, 0.3), 0px 1px 3px 1px rgba(60, 64, 67, 0.15);\n",
              "      fill: #174EA6;\n",
              "    }\n",
              "\n",
              "    [theme=dark] .colab-df-convert {\n",
              "      background-color: #3B4455;\n",
              "      fill: #D2E3FC;\n",
              "    }\n",
              "\n",
              "    [theme=dark] .colab-df-convert:hover {\n",
              "      background-color: #434B5C;\n",
              "      box-shadow: 0px 1px 3px 1px rgba(0, 0, 0, 0.15);\n",
              "      filter: drop-shadow(0px 1px 2px rgba(0, 0, 0, 0.3));\n",
              "      fill: #FFFFFF;\n",
              "    }\n",
              "  </style>\n",
              "\n",
              "      <script>\n",
              "        const buttonEl =\n",
              "          document.querySelector('#df-c29e6cca-6fff-4b62-b404-202d82202a0e button.colab-df-convert');\n",
              "        buttonEl.style.display =\n",
              "          google.colab.kernel.accessAllowed ? 'block' : 'none';\n",
              "\n",
              "        async function convertToInteractive(key) {\n",
              "          const element = document.querySelector('#df-c29e6cca-6fff-4b62-b404-202d82202a0e');\n",
              "          const dataTable =\n",
              "            await google.colab.kernel.invokeFunction('convertToInteractive',\n",
              "                                                     [key], {});\n",
              "          if (!dataTable) return;\n",
              "\n",
              "          const docLinkHtml = 'Like what you see? Visit the ' +\n",
              "            '<a target=\"_blank\" href=https://colab.research.google.com/notebooks/data_table.ipynb>data table notebook</a>'\n",
              "            + ' to learn more about interactive tables.';\n",
              "          element.innerHTML = '';\n",
              "          dataTable['output_type'] = 'display_data';\n",
              "          await google.colab.output.renderOutput(dataTable, element);\n",
              "          const docLink = document.createElement('div');\n",
              "          docLink.innerHTML = docLinkHtml;\n",
              "          element.appendChild(docLink);\n",
              "        }\n",
              "      </script>\n",
              "    </div>\n",
              "  </div>\n",
              "  "
            ]
          },
          "metadata": {},
          "execution_count": 9
        }
      ]
    },
    {
      "cell_type": "code",
      "source": [
        "#Generar excel de los datos.\n",
        "df.to_csv('rol.csv')"
      ],
      "metadata": {
        "id": "sVO0kGlWxKyx"
      },
      "execution_count": 10,
      "outputs": []
    }
  ]
}