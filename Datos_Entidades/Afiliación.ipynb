{
  "nbformat": 4,
  "nbformat_minor": 0,
  "metadata": {
    "colab": {
      "provenance": []
    },
    "kernelspec": {
      "name": "python3",
      "display_name": "Python 3"
    },
    "language_info": {
      "name": "python"
    }
  },
  "cells": [
    {
      "cell_type": "markdown",
      "source": [
        "**Proyecto Final: Unidad 1**"
      ],
      "metadata": {
        "id": "jo9GYmufKmbs"
      }
    },
    {
      "cell_type": "markdown",
      "source": [
        "**Entidad: hijo**"
      ],
      "metadata": {
        "id": "KpuWFNN2Kor6"
      }
    },
    {
      "cell_type": "code",
      "execution_count": null,
      "metadata": {
        "colab": {
          "base_uri": "https://localhost:8080/"
        },
        "id": "oTF0ugGLKfAj",
        "outputId": "6b8ec5e2-521d-41ec-a9ea-c133d9b0b592"
      },
      "outputs": [
        {
          "output_type": "stream",
          "name": "stdout",
          "text": [
            "Looking in indexes: https://pypi.org/simple, https://us-python.pkg.dev/colab-wheels/public/simple/\n",
            "Requirement already satisfied: Faker in /usr/local/lib/python3.8/dist-packages (15.3.4)\n",
            "Requirement already satisfied: python-dateutil>=2.4 in /usr/local/lib/python3.8/dist-packages (from Faker) (2.8.2)\n",
            "Requirement already satisfied: six>=1.5 in /usr/local/lib/python3.8/dist-packages (from python-dateutil>=2.4->Faker) (1.15.0)\n"
          ]
        }
      ],
      "source": [
        "#Faker es un paquete de Python que genera datos falsos.\n",
        "!pip install Faker"
      ]
    },
    {
      "cell_type": "code",
      "source": [
        "#Librerías necesarias para la generación de datos.\n",
        "import pandas as pd\n",
        "import uuid\n",
        "import random\n",
        "from faker import Faker\n",
        "import datetime\n",
        "\n",
        "#Librerías necesarias para el detalle o la descripción.\n",
        "import string\n",
        "import random\n",
        "from random import seed\n",
        "from datetime import datetime"
      ],
      "metadata": {
        "id": "0becQYW6L1zP"
      },
      "execution_count": null,
      "outputs": []
    },
    {
      "cell_type": "code",
      "source": [
        "#Variable asignada para el tamaño del conjunto de datos. \n",
        "num_iess = 10000"
      ],
      "metadata": {
        "id": "Zpn23lIHN4a7"
      },
      "execution_count": null,
      "outputs": []
    },
    {
      "cell_type": "markdown",
      "source": [
        "\n",
        "     - id_afiliacion:una cadena de números para identificar en este caso un tipo de afilicion\n",
        "     - nombre_afiliacion: tipo de datos de cadena para identificar la afiliacion\n",
        "     - tipo_afiliacion:tipo de cadena para saber el tipo de afiliacion\n",
        "     - estado_afiliacion: tipo de cadena para saber el estado de una afiliacion\n",
        "     - ci_persona: una cadena de números para identificar a una persona ene ste caso de nacionalidad ecuatoriana"
      ],
      "metadata": {
        "id": "Wu9gqTYWL_zu"
      }
    },
    {
      "cell_type": "markdown",
      "source": [
        "Se ingresan los atributos como una lista para inicializar un marco de datos de Pandas:"
      ],
      "metadata": {
        "id": "vB10TFziN_iq"
      }
    },
    {
      "cell_type": "code",
      "source": [
        "#Lista con los atributos\n",
        "features = [\n",
        "    \"id_afiliacion\",\n",
        "    \"nombre_afiliacion\",\n",
        "    \"tipo_afiliacion\",\n",
        "    \"estado_afiliacion\",\n",
        "    \"ci_persona\",\n",
        "]#Creamos un dataframe para estos atributos\n",
        "df = pd.DataFrame(columns=features)"
      ],
      "metadata": {
        "id": "ZTVnTHROOBGB"
      },
      "execution_count": null,
      "outputs": []
    },
    {
      "cell_type": "markdown",
      "source": [
        "**id_afiliacion**"
      ],
      "metadata": {
        "id": "fDTt7SVoNY8A"
      }
    },
    {
      "cell_type": "code",
      "source": [
        "#Biblioteca uuid para generar cadena aleatoria de datos para id_perfil.\n",
        "df['id_afiliacion'] = [uuid.uuid4().hex for i in range(num_iess)]"
      ],
      "metadata": {
        "id": "C4g3PScuOZe8"
      },
      "execution_count": null,
      "outputs": []
    },
    {
      "cell_type": "code",
      "source": [
        "#Genera identificaciones únicas para cada usuario. Si todas las ID en el conjunto de datos son únicas, devuelve True.\n",
        "print(df['id_afiliacion'].nunique()==num_iess)"
      ],
      "metadata": {
        "colab": {
          "base_uri": "https://localhost:8080/"
        },
        "id": "FVT7CpXpOc-9",
        "outputId": "0c83bad4-583d-4bef-8929-cce68fd15b3b"
      },
      "execution_count": null,
      "outputs": [
        {
          "output_type": "stream",
          "name": "stdout",
          "text": [
            "True\n"
          ]
        }
      ]
    },
    {
      "cell_type": "markdown",
      "source": [
        "\n",
        "**nombre_afiliacion**\n"
      ],
      "metadata": {
        "id": "8WLDF_nsNeCC"
      }
    },
    {
      "cell_type": "code",
      "source": [
        "#Los diferentes nombres de roles.\n",
        "nombre_afiliacion = ['Voluntario','Asegurado']\n",
        "#Creacion de los permisos para cada una de las filas\n",
        "df['nombre_afiliacion'] = random.choices(\n",
        "  nombre_afiliacion, \n",
        "    weights=(40,10), \n",
        "    k=num_iess\n",
        ")"
      ],
      "metadata": {
        "id": "WsrqmDVsPYJn"
      },
      "execution_count": null,
      "outputs": []
    },
    {
      "cell_type": "markdown",
      "source": [
        "**tipo_afiliacion**"
      ],
      "metadata": {
        "id": "U-droLVvNlZg"
      }
    },
    {
      "cell_type": "code",
      "source": [
        "#Los diferentes nombres de roles.\n",
        "tipo_afiliacion = ['Pensionista','Afiliado']\n",
        "#Creacion de los permisos para cada una de las filas\n",
        "df['tipo_afiliacion'] = random.choices(\n",
        "  tipo_afiliacion, \n",
        "    weights=(40,10), \n",
        "    k=num_iess\n",
        ")"
      ],
      "metadata": {
        "id": "ijB7QyfsNv-x"
      },
      "execution_count": null,
      "outputs": []
    },
    {
      "cell_type": "markdown",
      "source": [
        "**estado_afiliacion**"
      ],
      "metadata": {
        "id": "ZB_eE-RmNnUL"
      }
    },
    {
      "cell_type": "code",
      "source": [
        "#Los diferentes nombres de roles.\n",
        "estado_afiliacion = ['Activo','Inactivo']\n",
        "#Creacion de los permisos para cada una de las filas\n",
        "df['estado_afiliacion'] = random.choices(\n",
        "  estado_afiliacion, \n",
        "    weights=(40,10), \n",
        "    k=num_iess\n",
        ")"
      ],
      "metadata": {
        "id": "fWNDnnePP7Iw"
      },
      "execution_count": null,
      "outputs": []
    },
    {
      "cell_type": "markdown",
      "source": [
        "**ci_persona**"
      ],
      "metadata": {
        "id": "2tCEIN6UNsND"
      }
    },
    {
      "cell_type": "code",
      "source": [
        "#Variable para los géneros para la creación de los nombres.\n",
        "genero = [\"female\", \"male\"]"
      ],
      "metadata": {
        "id": "ZuMptVDlQboj"
      },
      "execution_count": null,
      "outputs": []
    },
    {
      "cell_type": "code",
      "source": [
        "#Nombres.\n",
        "df['genero']= random.choices(\n",
        "    genero, \n",
        "    weights=(30,30), \n",
        "    k=num_iess)"
      ],
      "metadata": {
        "id": "-gyPo2xAQbmH"
      },
      "execution_count": null,
      "outputs": []
    },
    {
      "cell_type": "code",
      "source": [
        "cedula=[]\n",
        "#Cantidad de números para la cadena..\n",
        "size = 10\n",
        "for i in range(0, num_iess):\n",
        "  random.seed(datetime.now())\n",
        "  #Números opcionales para formar la cadena.\n",
        "  valores = [0,1,2,3,4,5,6,7,8,9]\n",
        "  cedula=(''.join([str(random.choice(valores)) for i in range(size)]))\n",
        "  #Se guarda los números en telefonocallcenter.\n",
        "  df.ci_persona[i]=cedula"
      ],
      "metadata": {
        "id": "lKAAOQ57Qmyk"
      },
      "execution_count": null,
      "outputs": []
    },
    {
      "cell_type": "code",
      "source": [
        "#Eliminar genero, no es necesaerio para esta entidad.\n",
        "del(df['genero'])"
      ],
      "metadata": {
        "id": "LIKqsTpYQzdh"
      },
      "execution_count": null,
      "outputs": []
    },
    {
      "cell_type": "code",
      "source": [
        "#Visualizar en la tabla los datos generados antes de descargar el excel.\n",
        "df.head(5)"
      ],
      "metadata": {
        "colab": {
          "base_uri": "https://localhost:8080/",
          "height": 270
        },
        "id": "VUiPk4fNQ097",
        "outputId": "b69fabb6-775f-4975-d4fe-14c69810f1b6"
      },
      "execution_count": null,
      "outputs": [
        {
          "output_type": "execute_result",
          "data": {
            "text/plain": [
              "                      id_afiliacion nombre_afiliacion tipo_afiliacion  \\\n",
              "0  12d73b6cd94447abac7cfc96c11a5b7b        Voluntario     Pensionista   \n",
              "1  ee6eebd65ff74e138e430479a303f8a8        Voluntario     Pensionista   \n",
              "2  d447745a710c4eb1b00d176099cbb70a        Voluntario     Pensionista   \n",
              "3  94422e92e8db4ada9cfd67a711ae36d4        Voluntario     Pensionista   \n",
              "4  a7c75c6a1df4454297ddc0386f95f3da        Voluntario     Pensionista   \n",
              "\n",
              "  estado_afiliacion  ci_persona  \n",
              "0            Activo  8482188900  \n",
              "1          Inactivo  3676868572  \n",
              "2            Activo  8708096434  \n",
              "3            Activo  5100821013  \n",
              "4            Activo  6264497306  "
            ],
            "text/html": [
              "\n",
              "  <div id=\"df-a9467072-66d4-42e4-892c-14046e613574\">\n",
              "    <div class=\"colab-df-container\">\n",
              "      <div>\n",
              "<style scoped>\n",
              "    .dataframe tbody tr th:only-of-type {\n",
              "        vertical-align: middle;\n",
              "    }\n",
              "\n",
              "    .dataframe tbody tr th {\n",
              "        vertical-align: top;\n",
              "    }\n",
              "\n",
              "    .dataframe thead th {\n",
              "        text-align: right;\n",
              "    }\n",
              "</style>\n",
              "<table border=\"1\" class=\"dataframe\">\n",
              "  <thead>\n",
              "    <tr style=\"text-align: right;\">\n",
              "      <th></th>\n",
              "      <th>id_afiliacion</th>\n",
              "      <th>nombre_afiliacion</th>\n",
              "      <th>tipo_afiliacion</th>\n",
              "      <th>estado_afiliacion</th>\n",
              "      <th>ci_persona</th>\n",
              "    </tr>\n",
              "  </thead>\n",
              "  <tbody>\n",
              "    <tr>\n",
              "      <th>0</th>\n",
              "      <td>12d73b6cd94447abac7cfc96c11a5b7b</td>\n",
              "      <td>Voluntario</td>\n",
              "      <td>Pensionista</td>\n",
              "      <td>Activo</td>\n",
              "      <td>8482188900</td>\n",
              "    </tr>\n",
              "    <tr>\n",
              "      <th>1</th>\n",
              "      <td>ee6eebd65ff74e138e430479a303f8a8</td>\n",
              "      <td>Voluntario</td>\n",
              "      <td>Pensionista</td>\n",
              "      <td>Inactivo</td>\n",
              "      <td>3676868572</td>\n",
              "    </tr>\n",
              "    <tr>\n",
              "      <th>2</th>\n",
              "      <td>d447745a710c4eb1b00d176099cbb70a</td>\n",
              "      <td>Voluntario</td>\n",
              "      <td>Pensionista</td>\n",
              "      <td>Activo</td>\n",
              "      <td>8708096434</td>\n",
              "    </tr>\n",
              "    <tr>\n",
              "      <th>3</th>\n",
              "      <td>94422e92e8db4ada9cfd67a711ae36d4</td>\n",
              "      <td>Voluntario</td>\n",
              "      <td>Pensionista</td>\n",
              "      <td>Activo</td>\n",
              "      <td>5100821013</td>\n",
              "    </tr>\n",
              "    <tr>\n",
              "      <th>4</th>\n",
              "      <td>a7c75c6a1df4454297ddc0386f95f3da</td>\n",
              "      <td>Voluntario</td>\n",
              "      <td>Pensionista</td>\n",
              "      <td>Activo</td>\n",
              "      <td>6264497306</td>\n",
              "    </tr>\n",
              "  </tbody>\n",
              "</table>\n",
              "</div>\n",
              "      <button class=\"colab-df-convert\" onclick=\"convertToInteractive('df-a9467072-66d4-42e4-892c-14046e613574')\"\n",
              "              title=\"Convert this dataframe to an interactive table.\"\n",
              "              style=\"display:none;\">\n",
              "        \n",
              "  <svg xmlns=\"http://www.w3.org/2000/svg\" height=\"24px\"viewBox=\"0 0 24 24\"\n",
              "       width=\"24px\">\n",
              "    <path d=\"M0 0h24v24H0V0z\" fill=\"none\"/>\n",
              "    <path d=\"M18.56 5.44l.94 2.06.94-2.06 2.06-.94-2.06-.94-.94-2.06-.94 2.06-2.06.94zm-11 1L8.5 8.5l.94-2.06 2.06-.94-2.06-.94L8.5 2.5l-.94 2.06-2.06.94zm10 10l.94 2.06.94-2.06 2.06-.94-2.06-.94-.94-2.06-.94 2.06-2.06.94z\"/><path d=\"M17.41 7.96l-1.37-1.37c-.4-.4-.92-.59-1.43-.59-.52 0-1.04.2-1.43.59L10.3 9.45l-7.72 7.72c-.78.78-.78 2.05 0 2.83L4 21.41c.39.39.9.59 1.41.59.51 0 1.02-.2 1.41-.59l7.78-7.78 2.81-2.81c.8-.78.8-2.07 0-2.86zM5.41 20L4 18.59l7.72-7.72 1.47 1.35L5.41 20z\"/>\n",
              "  </svg>\n",
              "      </button>\n",
              "      \n",
              "  <style>\n",
              "    .colab-df-container {\n",
              "      display:flex;\n",
              "      flex-wrap:wrap;\n",
              "      gap: 12px;\n",
              "    }\n",
              "\n",
              "    .colab-df-convert {\n",
              "      background-color: #E8F0FE;\n",
              "      border: none;\n",
              "      border-radius: 50%;\n",
              "      cursor: pointer;\n",
              "      display: none;\n",
              "      fill: #1967D2;\n",
              "      height: 32px;\n",
              "      padding: 0 0 0 0;\n",
              "      width: 32px;\n",
              "    }\n",
              "\n",
              "    .colab-df-convert:hover {\n",
              "      background-color: #E2EBFA;\n",
              "      box-shadow: 0px 1px 2px rgba(60, 64, 67, 0.3), 0px 1px 3px 1px rgba(60, 64, 67, 0.15);\n",
              "      fill: #174EA6;\n",
              "    }\n",
              "\n",
              "    [theme=dark] .colab-df-convert {\n",
              "      background-color: #3B4455;\n",
              "      fill: #D2E3FC;\n",
              "    }\n",
              "\n",
              "    [theme=dark] .colab-df-convert:hover {\n",
              "      background-color: #434B5C;\n",
              "      box-shadow: 0px 1px 3px 1px rgba(0, 0, 0, 0.15);\n",
              "      filter: drop-shadow(0px 1px 2px rgba(0, 0, 0, 0.3));\n",
              "      fill: #FFFFFF;\n",
              "    }\n",
              "  </style>\n",
              "\n",
              "      <script>\n",
              "        const buttonEl =\n",
              "          document.querySelector('#df-a9467072-66d4-42e4-892c-14046e613574 button.colab-df-convert');\n",
              "        buttonEl.style.display =\n",
              "          google.colab.kernel.accessAllowed ? 'block' : 'none';\n",
              "\n",
              "        async function convertToInteractive(key) {\n",
              "          const element = document.querySelector('#df-a9467072-66d4-42e4-892c-14046e613574');\n",
              "          const dataTable =\n",
              "            await google.colab.kernel.invokeFunction('convertToInteractive',\n",
              "                                                     [key], {});\n",
              "          if (!dataTable) return;\n",
              "\n",
              "          const docLinkHtml = 'Like what you see? Visit the ' +\n",
              "            '<a target=\"_blank\" href=https://colab.research.google.com/notebooks/data_table.ipynb>data table notebook</a>'\n",
              "            + ' to learn more about interactive tables.';\n",
              "          element.innerHTML = '';\n",
              "          dataTable['output_type'] = 'display_data';\n",
              "          await google.colab.output.renderOutput(dataTable, element);\n",
              "          const docLink = document.createElement('div');\n",
              "          docLink.innerHTML = docLinkHtml;\n",
              "          element.appendChild(docLink);\n",
              "        }\n",
              "      </script>\n",
              "    </div>\n",
              "  </div>\n",
              "  "
            ]
          },
          "metadata": {},
          "execution_count": 81
        }
      ]
    },
    {
      "cell_type": "code",
      "source": [
        "#Generar excel de los datos.\n",
        "df.to_csv('afiliacion.csv')"
      ],
      "metadata": {
        "id": "OOuFLBR-Q2QR"
      },
      "execution_count": null,
      "outputs": []
    }
  ]
}