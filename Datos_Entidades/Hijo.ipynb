{
  "nbformat": 4,
  "nbformat_minor": 0,
  "metadata": {
    "colab": {
      "provenance": []
    },
    "kernelspec": {
      "name": "python3",
      "display_name": "Python 3"
    },
    "language_info": {
      "name": "python"
    }
  },
  "cells": [
    {
      "cell_type": "markdown",
      "source": [
        "**Proyecto Final: Unidad 1**"
      ],
      "metadata": {
        "id": "-Ks0Kd4QYVnV"
      }
    },
    {
      "cell_type": "markdown",
      "source": [
        "**Entidad: hijo**"
      ],
      "metadata": {
        "id": "785HrpvYYYgE"
      }
    },
    {
      "cell_type": "code",
      "execution_count": 1,
      "metadata": {
        "colab": {
          "base_uri": "https://localhost:8080/"
        },
        "id": "xipKn-w3YQ_u",
        "outputId": "9e7a05f2-12dc-4c43-f257-0de6696ca34a"
      },
      "outputs": [
        {
          "output_type": "stream",
          "name": "stdout",
          "text": [
            "Looking in indexes: https://pypi.org/simple, https://us-python.pkg.dev/colab-wheels/public/simple/\n",
            "Collecting Faker\n",
            "  Downloading Faker-15.3.4-py3-none-any.whl (1.6 MB)\n",
            "\u001b[K     |████████████████████████████████| 1.6 MB 11.9 MB/s \n",
            "\u001b[?25hRequirement already satisfied: python-dateutil>=2.4 in /usr/local/lib/python3.8/dist-packages (from Faker) (2.8.2)\n",
            "Requirement already satisfied: six>=1.5 in /usr/local/lib/python3.8/dist-packages (from python-dateutil>=2.4->Faker) (1.15.0)\n",
            "Installing collected packages: Faker\n",
            "Successfully installed Faker-15.3.4\n"
          ]
        }
      ],
      "source": [
        "#Faker es un paquete de Python que genera datos falsos.\n",
        "!pip install Faker"
      ]
    },
    {
      "cell_type": "code",
      "source": [
        "#Librerías necesarias para la generación de datos.\n",
        "import pandas as pd\n",
        "import uuid\n",
        "import random\n",
        "from faker import Faker\n",
        "import datetime\n",
        "\n",
        "#Librerías para generar cadena de numeros\n",
        "import random as r\n",
        "from random import seed\n",
        "from datetime import datetime"
      ],
      "metadata": {
        "id": "HkNhC-bNYuU7"
      },
      "execution_count": 2,
      "outputs": []
    },
    {
      "cell_type": "code",
      "source": [
        "#Variable asignada para el tamaño del conjunto de datos. \n",
        "num_iess = 10000"
      ],
      "metadata": {
        "id": "CLOqOhslY5tD"
      },
      "execution_count": 3,
      "outputs": []
    },
    {
      "cell_type": "code",
      "source": [
        "#Lista de 4 características (Atributos)\n",
        "features = [\n",
        "    \"ci_hijo\",\n",
        "    \"nombre_hijo\",\n",
        "    \"edad_hijo\",\n",
        "    \"ci_persona\",\n",
        "]# Creando un DF para estas características\n",
        "df = pd.DataFrame(columns=features)"
      ],
      "metadata": {
        "id": "Emt-fGkQY-KL"
      },
      "execution_count": 4,
      "outputs": []
    },
    {
      "cell_type": "markdown",
      "source": [
        "**nombre: hijo**"
      ],
      "metadata": {
        "id": "2zRVu0psgpKp"
      }
    },
    {
      "cell_type": "code",
      "source": [
        "#Variable para los géneros para la creación de los nombres.\n",
        "genero = [\"female\", \"male\"]"
      ],
      "metadata": {
        "id": "lvwQqY_Ugruw"
      },
      "execution_count": 5,
      "outputs": []
    },
    {
      "cell_type": "code",
      "source": [
        "#Nombres.\n",
        "df['genero']= random.choices(\n",
        "    genero, \n",
        "    weights=(30,30), \n",
        "    k=num_iess)"
      ],
      "metadata": {
        "id": "iOi87KUyguth"
      },
      "execution_count": 6,
      "outputs": []
    },
    {
      "cell_type": "code",
      "source": [
        "#Instancia Faker\n",
        "faker = Faker()\n",
        "#Función.\n",
        "def name_gen(genero):\n",
        "    #Para masculino\n",
        "    if genero=='male':\n",
        "        return faker.name_male()\n",
        "    #Para femenino\n",
        "    elif genero=='female':\n",
        "        return faker.name_female()\n",
        "    #Genera los nombres\n",
        "    return faker.name()\n",
        "df['nombre_hijo'] = [name_gen(i) for i in df['genero']]"
      ],
      "metadata": {
        "id": "qswfDLNagxPo"
      },
      "execution_count": 7,
      "outputs": []
    },
    {
      "cell_type": "markdown",
      "source": [
        "**ci_hijo**"
      ],
      "metadata": {
        "id": "WJCQ3L2aaNSC"
      }
    },
    {
      "cell_type": "code",
      "source": [
        "cedula=[]\n",
        "#Cantidad de números para la cadena..\n",
        "size = 10\n",
        "for i in range(0, num_iess):\n",
        "  random.seed(datetime.now())\n",
        "  #Números opcionales para formar la cadena.\n",
        "  valores = [0,1,2,3,4,5,6,7,8,9]\n",
        "  cedula=(''.join([str(random.choice(valores)) for i in range(size)]))\n",
        "  #Se guarda los números en telefonocallcenter.\n",
        "  df.ci_hijo[i]=cedula"
      ],
      "metadata": {
        "id": "qTT4SMhzaPwL"
      },
      "execution_count": 8,
      "outputs": []
    },
    {
      "cell_type": "markdown",
      "source": [
        "**edad_hijo**"
      ],
      "metadata": {
        "id": "9OKgMz9HbCwa"
      }
    },
    {
      "cell_type": "code",
      "source": [
        "edad=[]\n",
        "#Cantidad de números para la cadena..\n",
        "size = 1 or 2\n",
        "for i in range(0, num_iess):\n",
        "  random.seed(datetime.now())\n",
        "  #Números opcionales para formar la cadena.\n",
        "  valores = [0,1,2,3,4,5,6,7,8,9]\n",
        "  edad=(''.join([str(random.choice(valores)) for i in range(size)]))\n",
        "  #Se guarda los números en telefonocallcenter.\n",
        "  df.edad_hijo[i]=edad"
      ],
      "metadata": {
        "id": "pBd07lAShEGy"
      },
      "execution_count": 9,
      "outputs": []
    },
    {
      "cell_type": "markdown",
      "source": [
        "**ci_persona**"
      ],
      "metadata": {
        "id": "RtEDgx9lbT9z"
      }
    },
    {
      "cell_type": "code",
      "source": [
        "cedula=[]\n",
        "#Cantidad de números para la cadena..\n",
        "size = 10\n",
        "for i in range(0, num_iess):\n",
        "  random.seed(datetime.now())\n",
        "  #Números opcionales para formar la cadena.\n",
        "  valores = [0,1,2,3,4,5,6,7,8,9]\n",
        "  cedula=(''.join([str(random.choice(valores)) for i in range(size)]))\n",
        "  #Se guarda los números en telefonocallcenter.\n",
        "  df.ci_persona[i]=cedula"
      ],
      "metadata": {
        "id": "NvuAAnxPhrlB"
      },
      "execution_count": 10,
      "outputs": []
    },
    {
      "cell_type": "code",
      "source": [
        "#Eliminar genero, no es necesaerio para esta entidad.\n",
        "del(df['genero'])"
      ],
      "metadata": {
        "id": "adWdo4DGh1I4"
      },
      "execution_count": 11,
      "outputs": []
    },
    {
      "cell_type": "code",
      "source": [
        "#Visualizar en la tabla los datos generados antes de descargar el excel.\n",
        "df.head(5)"
      ],
      "metadata": {
        "colab": {
          "base_uri": "https://localhost:8080/",
          "height": 206
        },
        "id": "jtze1cUBblvb",
        "outputId": "ebf83cb5-4a26-4131-9e7c-9c0c6f55b533"
      },
      "execution_count": 12,
      "outputs": [
        {
          "output_type": "execute_result",
          "data": {
            "text/plain": [
              "      ci_hijo        nombre_hijo edad_hijo  ci_persona\n",
              "0  4278767479      Zachary Grant         9  8765629633\n",
              "1  1807401339  Theresa Mayer DDS         4  8875209943\n",
              "2  2218096780   Dr. Kathy Kaiser         0  4634419291\n",
              "3  5058761924        Larry Payne         2  0656511674\n",
              "4  4973845999  Elizabeth Vincent         6  0586442214"
            ],
            "text/html": [
              "\n",
              "  <div id=\"df-58f84000-13c5-44f7-9dcd-7d86a9c46d81\">\n",
              "    <div class=\"colab-df-container\">\n",
              "      <div>\n",
              "<style scoped>\n",
              "    .dataframe tbody tr th:only-of-type {\n",
              "        vertical-align: middle;\n",
              "    }\n",
              "\n",
              "    .dataframe tbody tr th {\n",
              "        vertical-align: top;\n",
              "    }\n",
              "\n",
              "    .dataframe thead th {\n",
              "        text-align: right;\n",
              "    }\n",
              "</style>\n",
              "<table border=\"1\" class=\"dataframe\">\n",
              "  <thead>\n",
              "    <tr style=\"text-align: right;\">\n",
              "      <th></th>\n",
              "      <th>ci_hijo</th>\n",
              "      <th>nombre_hijo</th>\n",
              "      <th>edad_hijo</th>\n",
              "      <th>ci_persona</th>\n",
              "    </tr>\n",
              "  </thead>\n",
              "  <tbody>\n",
              "    <tr>\n",
              "      <th>0</th>\n",
              "      <td>4278767479</td>\n",
              "      <td>Zachary Grant</td>\n",
              "      <td>9</td>\n",
              "      <td>8765629633</td>\n",
              "    </tr>\n",
              "    <tr>\n",
              "      <th>1</th>\n",
              "      <td>1807401339</td>\n",
              "      <td>Theresa Mayer DDS</td>\n",
              "      <td>4</td>\n",
              "      <td>8875209943</td>\n",
              "    </tr>\n",
              "    <tr>\n",
              "      <th>2</th>\n",
              "      <td>2218096780</td>\n",
              "      <td>Dr. Kathy Kaiser</td>\n",
              "      <td>0</td>\n",
              "      <td>4634419291</td>\n",
              "    </tr>\n",
              "    <tr>\n",
              "      <th>3</th>\n",
              "      <td>5058761924</td>\n",
              "      <td>Larry Payne</td>\n",
              "      <td>2</td>\n",
              "      <td>0656511674</td>\n",
              "    </tr>\n",
              "    <tr>\n",
              "      <th>4</th>\n",
              "      <td>4973845999</td>\n",
              "      <td>Elizabeth Vincent</td>\n",
              "      <td>6</td>\n",
              "      <td>0586442214</td>\n",
              "    </tr>\n",
              "  </tbody>\n",
              "</table>\n",
              "</div>\n",
              "      <button class=\"colab-df-convert\" onclick=\"convertToInteractive('df-58f84000-13c5-44f7-9dcd-7d86a9c46d81')\"\n",
              "              title=\"Convert this dataframe to an interactive table.\"\n",
              "              style=\"display:none;\">\n",
              "        \n",
              "  <svg xmlns=\"http://www.w3.org/2000/svg\" height=\"24px\"viewBox=\"0 0 24 24\"\n",
              "       width=\"24px\">\n",
              "    <path d=\"M0 0h24v24H0V0z\" fill=\"none\"/>\n",
              "    <path d=\"M18.56 5.44l.94 2.06.94-2.06 2.06-.94-2.06-.94-.94-2.06-.94 2.06-2.06.94zm-11 1L8.5 8.5l.94-2.06 2.06-.94-2.06-.94L8.5 2.5l-.94 2.06-2.06.94zm10 10l.94 2.06.94-2.06 2.06-.94-2.06-.94-.94-2.06-.94 2.06-2.06.94z\"/><path d=\"M17.41 7.96l-1.37-1.37c-.4-.4-.92-.59-1.43-.59-.52 0-1.04.2-1.43.59L10.3 9.45l-7.72 7.72c-.78.78-.78 2.05 0 2.83L4 21.41c.39.39.9.59 1.41.59.51 0 1.02-.2 1.41-.59l7.78-7.78 2.81-2.81c.8-.78.8-2.07 0-2.86zM5.41 20L4 18.59l7.72-7.72 1.47 1.35L5.41 20z\"/>\n",
              "  </svg>\n",
              "      </button>\n",
              "      \n",
              "  <style>\n",
              "    .colab-df-container {\n",
              "      display:flex;\n",
              "      flex-wrap:wrap;\n",
              "      gap: 12px;\n",
              "    }\n",
              "\n",
              "    .colab-df-convert {\n",
              "      background-color: #E8F0FE;\n",
              "      border: none;\n",
              "      border-radius: 50%;\n",
              "      cursor: pointer;\n",
              "      display: none;\n",
              "      fill: #1967D2;\n",
              "      height: 32px;\n",
              "      padding: 0 0 0 0;\n",
              "      width: 32px;\n",
              "    }\n",
              "\n",
              "    .colab-df-convert:hover {\n",
              "      background-color: #E2EBFA;\n",
              "      box-shadow: 0px 1px 2px rgba(60, 64, 67, 0.3), 0px 1px 3px 1px rgba(60, 64, 67, 0.15);\n",
              "      fill: #174EA6;\n",
              "    }\n",
              "\n",
              "    [theme=dark] .colab-df-convert {\n",
              "      background-color: #3B4455;\n",
              "      fill: #D2E3FC;\n",
              "    }\n",
              "\n",
              "    [theme=dark] .colab-df-convert:hover {\n",
              "      background-color: #434B5C;\n",
              "      box-shadow: 0px 1px 3px 1px rgba(0, 0, 0, 0.15);\n",
              "      filter: drop-shadow(0px 1px 2px rgba(0, 0, 0, 0.3));\n",
              "      fill: #FFFFFF;\n",
              "    }\n",
              "  </style>\n",
              "\n",
              "      <script>\n",
              "        const buttonEl =\n",
              "          document.querySelector('#df-58f84000-13c5-44f7-9dcd-7d86a9c46d81 button.colab-df-convert');\n",
              "        buttonEl.style.display =\n",
              "          google.colab.kernel.accessAllowed ? 'block' : 'none';\n",
              "\n",
              "        async function convertToInteractive(key) {\n",
              "          const element = document.querySelector('#df-58f84000-13c5-44f7-9dcd-7d86a9c46d81');\n",
              "          const dataTable =\n",
              "            await google.colab.kernel.invokeFunction('convertToInteractive',\n",
              "                                                     [key], {});\n",
              "          if (!dataTable) return;\n",
              "\n",
              "          const docLinkHtml = 'Like what you see? Visit the ' +\n",
              "            '<a target=\"_blank\" href=https://colab.research.google.com/notebooks/data_table.ipynb>data table notebook</a>'\n",
              "            + ' to learn more about interactive tables.';\n",
              "          element.innerHTML = '';\n",
              "          dataTable['output_type'] = 'display_data';\n",
              "          await google.colab.output.renderOutput(dataTable, element);\n",
              "          const docLink = document.createElement('div');\n",
              "          docLink.innerHTML = docLinkHtml;\n",
              "          element.appendChild(docLink);\n",
              "        }\n",
              "      </script>\n",
              "    </div>\n",
              "  </div>\n",
              "  "
            ]
          },
          "metadata": {},
          "execution_count": 12
        }
      ]
    },
    {
      "cell_type": "code",
      "source": [
        "#Generar excel de los datos.\n",
        "df.to_csv('hijo.csv')"
      ],
      "metadata": {
        "id": "44pGEyMDbqj6"
      },
      "execution_count": 13,
      "outputs": []
    }
  ]
}