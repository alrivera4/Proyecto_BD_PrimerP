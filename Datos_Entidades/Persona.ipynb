{
  "nbformat": 4,
  "nbformat_minor": 0,
  "metadata": {
    "colab": {
      "provenance": []
    },
    "kernelspec": {
      "name": "python3",
      "display_name": "Python 3"
    },
    "language_info": {
      "name": "python"
    }
  },
  "cells": [
    {
      "cell_type": "markdown",
      "source": [
        "**Proyecto Final: Unidad 1**"
      ],
      "metadata": {
        "id": "iSKuHF5jiUCI"
      }
    },
    {
      "cell_type": "markdown",
      "source": [
        "**Entidad: hijo**"
      ],
      "metadata": {
        "id": "UwCV5u9YiXZh"
      }
    },
    {
      "cell_type": "code",
      "execution_count": 17,
      "metadata": {
        "colab": {
          "base_uri": "https://localhost:8080/"
        },
        "id": "S72wj8IniLDI",
        "outputId": "16a0aead-74c3-4708-e080-064ce390e229"
      },
      "outputs": [
        {
          "output_type": "stream",
          "name": "stdout",
          "text": [
            "Looking in indexes: https://pypi.org/simple, https://us-python.pkg.dev/colab-wheels/public/simple/\n",
            "Requirement already satisfied: Faker in /usr/local/lib/python3.8/dist-packages (15.3.4)\n",
            "Requirement already satisfied: python-dateutil>=2.4 in /usr/local/lib/python3.8/dist-packages (from Faker) (2.8.2)\n",
            "Requirement already satisfied: six>=1.5 in /usr/local/lib/python3.8/dist-packages (from python-dateutil>=2.4->Faker) (1.15.0)\n"
          ]
        }
      ],
      "source": [
        "#Faker es un paquete de Python que genera datos falsos.\n",
        "!pip install Faker"
      ]
    },
    {
      "cell_type": "code",
      "source": [
        "#Librerías necesarias para la generación de datos.\n",
        "import pandas as pd\n",
        "import uuid\n",
        "import random\n",
        "from faker import Faker\n",
        "import datetime\n",
        "\n",
        "#Librerías para generar cadena de numeros\n",
        "import random as r\n",
        "from random import seed\n",
        "\n",
        "#Librerías para generar fechas\n",
        "from random import randint\n",
        "from datetime import datetime"
      ],
      "metadata": {
        "id": "ryvoae56i-jp"
      },
      "execution_count": 18,
      "outputs": []
    },
    {
      "cell_type": "code",
      "source": [
        "#Variable asignada para el tamaño del conjunto de datos. \n",
        "num_iess = 10000"
      ],
      "metadata": {
        "id": "mu7L7dRSjAGx"
      },
      "execution_count": 19,
      "outputs": []
    },
    {
      "cell_type": "code",
      "source": [
        "#Lista de 7 características (Atributos)\n",
        "features = [\n",
        "    \"ci_persona\",\n",
        "    \"nombre_persona\",\n",
        "    \"tel_persona\",\n",
        "    \"genero_persona\",\n",
        "    \"fecha_nac_persona\",\n",
        "    \"correo_persona\",\n",
        "    \"direccion_persona\",\n",
        "]# Creando un DF para estas características\n",
        "df = pd.DataFrame(columns=features)"
      ],
      "metadata": {
        "id": "pvt4b62yjB2o"
      },
      "execution_count": 20,
      "outputs": []
    },
    {
      "cell_type": "markdown",
      "source": [
        "**nombre_persona**"
      ],
      "metadata": {
        "id": "f2cjaA0tj_ZA"
      }
    },
    {
      "cell_type": "code",
      "source": [
        "#Variable para los géneros para la creación de los nombres.\n",
        "genero = [\"female\", \"male\"]"
      ],
      "metadata": {
        "id": "8HTKh3MjkIFg"
      },
      "execution_count": 21,
      "outputs": []
    },
    {
      "cell_type": "code",
      "source": [
        "#Nombres.\n",
        "df['genero']= random.choices(\n",
        "    genero, \n",
        "    weights=(30,30), \n",
        "    k=num_iess)"
      ],
      "metadata": {
        "id": "RtlbrE5nmYIQ"
      },
      "execution_count": 22,
      "outputs": []
    },
    {
      "cell_type": "code",
      "source": [
        "#Instancia Faker\n",
        "faker = Faker()\n",
        "#Función.\n",
        "def name_gen(genero):\n",
        "    #Para masculino\n",
        "    if genero=='male':\n",
        "        return faker.name_male()\n",
        "    #Para femenino\n",
        "    elif genero=='female':\n",
        "        return faker.name_female()\n",
        "    #Genera los nombres\n",
        "    return faker.name()\n",
        "df['nombre_persona'] = [name_gen(i) for i in df['genero']]"
      ],
      "metadata": {
        "id": "YGF5TzFZmaNX"
      },
      "execution_count": 23,
      "outputs": []
    },
    {
      "cell_type": "markdown",
      "source": [
        "**ci_persona**"
      ],
      "metadata": {
        "id": "tGtHfZZcj5zI"
      }
    },
    {
      "cell_type": "code",
      "source": [
        "cedula=[]\n",
        "#Cantidad de números para la cadena..\n",
        "size = 10\n",
        "for i in range(0, num_iess):\n",
        "  random.seed(datetime.now())\n",
        "  #Números opcionales para formar la cadena.\n",
        "  valores = [0,1,2,3,4,5,6,7,8,9]\n",
        "  cedula=(''.join([str(random.choice(valores)) for i in range(size)]))\n",
        "  #Se guarda los números en telefonocallcenter.\n",
        "  df.ci_persona[i]=cedula"
      ],
      "metadata": {
        "id": "dE-WAOT0j9pR"
      },
      "execution_count": 24,
      "outputs": []
    },
    {
      "cell_type": "markdown",
      "source": [
        "**tel_persona**"
      ],
      "metadata": {
        "id": "xyR3ypG4kQN4"
      }
    },
    {
      "cell_type": "code",
      "source": [
        "numero=[]\n",
        "#Cantidad de números para la cadena..\n",
        "size = 10\n",
        "for i in range(0, num_iess):\n",
        "  random.seed(datetime.now())\n",
        "  #Números opcionales para formar la cadena.\n",
        "  valores = [0,1,2,3,4,5,6,7,8,9]\n",
        "  numero=(''.join([str(random.choice(valores)) for i in range(size)]))\n",
        "  #Se guarda los números en telefonocallcenter.\n",
        "  df.tel_persona[i]=numero"
      ],
      "metadata": {
        "id": "iJWOsCiVkb0J"
      },
      "execution_count": 25,
      "outputs": []
    },
    {
      "cell_type": "markdown",
      "source": [
        "**genero_persona**"
      ],
      "metadata": {
        "id": "fql2SQczlBFA"
      }
    },
    {
      "cell_type": "code",
      "source": [
        "genders = [\"Hombre\", \"Mujer\"]"
      ],
      "metadata": {
        "id": "XYfREgrUlEWX"
      },
      "execution_count": 26,
      "outputs": []
    },
    {
      "cell_type": "code",
      "source": [
        "df['genero_persona'] = random.choices(\n",
        "    genders, \n",
        "    weights=(47,47), \n",
        "    k=num_iess\n",
        ")\n",
        "df.genero_persona[i]=genders"
      ],
      "metadata": {
        "id": "tNJ4TrwdlHlo"
      },
      "execution_count": 27,
      "outputs": []
    },
    {
      "cell_type": "markdown",
      "source": [
        "**fecha_nac_persona**"
      ],
      "metadata": {
        "id": "drKJEOnYmkNn"
      }
    },
    {
      "cell_type": "code",
      "source": [
        "def fecha_nac_persona(start, end, n):\n",
        "    #Formato de marca de tiempo (año, mes, dia)\n",
        "    frmt = \"%Y-%m-%d\"\n",
        "\n",
        "    #Formateo de los dos períodos de tiempo.\n",
        "    stime = datetime.strptime(start, frmt)\n",
        "    etime = datetime.strptime(end, frmt)\n",
        "    \n",
        "    #Se crea el grupo para tiempos aleatorios.\n",
        "    td = etime - stime\n",
        "    \n",
        "    #Se genera una lista con los tiempos aleatorios.\n",
        "    times = [(random.random() * td + stime).strftime(frmt) for _ in range(n)]\n",
        "    return times\n",
        "df['fecha_nac_persona'] = fecha_nac_persona(\"1980-01-01\", \"2006-01-01\", num_iess)"
      ],
      "metadata": {
        "id": "Sx8YY4Gxmpcm"
      },
      "execution_count": 28,
      "outputs": []
    },
    {
      "cell_type": "markdown",
      "source": [
        "**correo_persona**"
      ],
      "metadata": {
        "id": "02EWhzESvPQV"
      }
    },
    {
      "cell_type": "code",
      "source": [
        "def emailGen(name, duplicateFound=False):\n",
        "    \"\"\"\n",
        "    Genera una dirección de correo electrónico aleatoria basada en el nombre dado.\n",
        "    Agrega un número al final si se encuentra una dirección duplicada.\n",
        "    \"\"\"\n",
        "    #Nombre de dominio falso para usar.\n",
        "    dom = \"@fakemail.com\"\n",
        "    \n",
        "    #Minúsculas y división.\n",
        "    name = name.lower().split(\" \")\n",
        "    \n",
        "    #Carácter aleatorio para insertar en el nombre.\n",
        "    chars = [\".\", \"_\"]\n",
        "    \n",
        "    new_name = name[0] + random.choice(chars) + name[1] \n",
        "    \n",
        "    #Distinguir aún más el correo electrónico si se encontró un duplicad.\n",
        "    if duplicateFound:\n",
        "        \n",
        "        #Número aleatorio para insertar al final.\n",
        "        num = random.randint(0,100)\n",
        "        \n",
        "        #Insertando al final.\n",
        "        new_name = new_name + str(num)\n",
        "        \n",
        "    #Devolver la dirección de correo electrónico con el nombre de dominio adjunto.\n",
        "    return new_name + dom"
      ],
      "metadata": {
        "id": "nE55_7f8vTS9"
      },
      "execution_count": 29,
      "outputs": []
    },
    {
      "cell_type": "code",
      "source": [
        "emails = []\n",
        "\n",
        "for name in df['nombre_persona']:\n",
        "    \n",
        "    # Generating the email\n",
        "    email = emailGen(name)\n",
        "    \n",
        "    # Looping until a unique email is generated\n",
        "    while email in emails:\n",
        "        \n",
        "        # Creating an email with a random number\n",
        "        email = emailGen(name, duplicateFound=True)\n",
        "    \n",
        "    # Attaching the new email to the list\n",
        "    emails.append(email)\n",
        "    \n",
        "df['correo_persona'] = emails"
      ],
      "metadata": {
        "id": "7iBzQFcbwSlW"
      },
      "execution_count": 30,
      "outputs": []
    },
    {
      "cell_type": "markdown",
      "source": [
        "**direccion_persona**"
      ],
      "metadata": {
        "id": "d7HPOo4ZyknM"
      }
    },
    {
      "cell_type": "code",
      "source": [
        "#Importaomos las librerias necesarias\n",
        "import string\n",
        "import random\n",
        "#Creamos la variale para la descripción de tipo string junto con su longitud de \n",
        "#cadena de caracteres\n",
        "bio=[]\n",
        "length_of_string = 20\n",
        "\n",
        "for i in range(0, num_iess):#Creamos la descripcion de la universidad\n",
        "  random.seed(datetime.now())\n",
        "  #La descripcion contendra todo tipo de caracteres.\n",
        "  bio=(''.join(random.SystemRandom().choice(string.ascii_letters + string.digits) for i in range(length_of_string)))\n",
        "  #Guardamos la descripcion en el atributo DescripcionUn\n",
        "  df.direccion_persona[i] =bio"
      ],
      "metadata": {
        "id": "-ULmYRosynvM"
      },
      "execution_count": 31,
      "outputs": []
    },
    {
      "cell_type": "code",
      "source": [
        "#Eliminar genero, no es necesaerio para esta entidad.\n",
        "del(df['genero'])"
      ],
      "metadata": {
        "id": "5UMuhpNWmgtP"
      },
      "execution_count": 32,
      "outputs": []
    },
    {
      "cell_type": "code",
      "source": [
        "#Visualizar en la tabla los datos generados antes de descargar el excel.\n",
        "df.head(5)"
      ],
      "metadata": {
        "colab": {
          "base_uri": "https://localhost:8080/",
          "height": 206
        },
        "id": "O41ZNumkkUAA",
        "outputId": "761e8a40-4f5e-47ea-96af-5a47ec56786f"
      },
      "execution_count": 33,
      "outputs": [
        {
          "output_type": "execute_result",
          "data": {
            "text/plain": [
              "   ci_persona      nombre_persona tel_persona genero_persona  \\\n",
              "0  1291627599       Ashley Wilson  0701620001         Hombre   \n",
              "1  1187056638        Lauren Davis  7905719971         Hombre   \n",
              "2  5909984227  Brandon Richardson  7163953424          Mujer   \n",
              "3  8723600244          Tara Casey  3485133659         Hombre   \n",
              "4  2477195119      Reginald Smith  5288056108         Hombre   \n",
              "\n",
              "  fecha_nac_persona                   correo_persona     direccion_persona  \n",
              "0        1999-04-16       ashley.wilson@fakemail.com  cLQLHMYx2aIc6X3AmHA7  \n",
              "1        1984-12-04        lauren_davis@fakemail.com  N0sCgeZaKMD1Zp2n6rkC  \n",
              "2        1984-05-29  brandon_richardson@fakemail.com  Y6YgzTSVcoC8Syz29bbl  \n",
              "3        1986-01-09          tara_casey@fakemail.com  k4pp6EnJ5294QFz8aoN5  \n",
              "4        1991-02-20      reginald_smith@fakemail.com  Q8ry85xOLAEvm3cT65E4  "
            ],
            "text/html": [
              "\n",
              "  <div id=\"df-c41c3352-8c83-4a89-b99f-3501cafdccb5\">\n",
              "    <div class=\"colab-df-container\">\n",
              "      <div>\n",
              "<style scoped>\n",
              "    .dataframe tbody tr th:only-of-type {\n",
              "        vertical-align: middle;\n",
              "    }\n",
              "\n",
              "    .dataframe tbody tr th {\n",
              "        vertical-align: top;\n",
              "    }\n",
              "\n",
              "    .dataframe thead th {\n",
              "        text-align: right;\n",
              "    }\n",
              "</style>\n",
              "<table border=\"1\" class=\"dataframe\">\n",
              "  <thead>\n",
              "    <tr style=\"text-align: right;\">\n",
              "      <th></th>\n",
              "      <th>ci_persona</th>\n",
              "      <th>nombre_persona</th>\n",
              "      <th>tel_persona</th>\n",
              "      <th>genero_persona</th>\n",
              "      <th>fecha_nac_persona</th>\n",
              "      <th>correo_persona</th>\n",
              "      <th>direccion_persona</th>\n",
              "    </tr>\n",
              "  </thead>\n",
              "  <tbody>\n",
              "    <tr>\n",
              "      <th>0</th>\n",
              "      <td>1291627599</td>\n",
              "      <td>Ashley Wilson</td>\n",
              "      <td>0701620001</td>\n",
              "      <td>Hombre</td>\n",
              "      <td>1999-04-16</td>\n",
              "      <td>ashley.wilson@fakemail.com</td>\n",
              "      <td>cLQLHMYx2aIc6X3AmHA7</td>\n",
              "    </tr>\n",
              "    <tr>\n",
              "      <th>1</th>\n",
              "      <td>1187056638</td>\n",
              "      <td>Lauren Davis</td>\n",
              "      <td>7905719971</td>\n",
              "      <td>Hombre</td>\n",
              "      <td>1984-12-04</td>\n",
              "      <td>lauren_davis@fakemail.com</td>\n",
              "      <td>N0sCgeZaKMD1Zp2n6rkC</td>\n",
              "    </tr>\n",
              "    <tr>\n",
              "      <th>2</th>\n",
              "      <td>5909984227</td>\n",
              "      <td>Brandon Richardson</td>\n",
              "      <td>7163953424</td>\n",
              "      <td>Mujer</td>\n",
              "      <td>1984-05-29</td>\n",
              "      <td>brandon_richardson@fakemail.com</td>\n",
              "      <td>Y6YgzTSVcoC8Syz29bbl</td>\n",
              "    </tr>\n",
              "    <tr>\n",
              "      <th>3</th>\n",
              "      <td>8723600244</td>\n",
              "      <td>Tara Casey</td>\n",
              "      <td>3485133659</td>\n",
              "      <td>Hombre</td>\n",
              "      <td>1986-01-09</td>\n",
              "      <td>tara_casey@fakemail.com</td>\n",
              "      <td>k4pp6EnJ5294QFz8aoN5</td>\n",
              "    </tr>\n",
              "    <tr>\n",
              "      <th>4</th>\n",
              "      <td>2477195119</td>\n",
              "      <td>Reginald Smith</td>\n",
              "      <td>5288056108</td>\n",
              "      <td>Hombre</td>\n",
              "      <td>1991-02-20</td>\n",
              "      <td>reginald_smith@fakemail.com</td>\n",
              "      <td>Q8ry85xOLAEvm3cT65E4</td>\n",
              "    </tr>\n",
              "  </tbody>\n",
              "</table>\n",
              "</div>\n",
              "      <button class=\"colab-df-convert\" onclick=\"convertToInteractive('df-c41c3352-8c83-4a89-b99f-3501cafdccb5')\"\n",
              "              title=\"Convert this dataframe to an interactive table.\"\n",
              "              style=\"display:none;\">\n",
              "        \n",
              "  <svg xmlns=\"http://www.w3.org/2000/svg\" height=\"24px\"viewBox=\"0 0 24 24\"\n",
              "       width=\"24px\">\n",
              "    <path d=\"M0 0h24v24H0V0z\" fill=\"none\"/>\n",
              "    <path d=\"M18.56 5.44l.94 2.06.94-2.06 2.06-.94-2.06-.94-.94-2.06-.94 2.06-2.06.94zm-11 1L8.5 8.5l.94-2.06 2.06-.94-2.06-.94L8.5 2.5l-.94 2.06-2.06.94zm10 10l.94 2.06.94-2.06 2.06-.94-2.06-.94-.94-2.06-.94 2.06-2.06.94z\"/><path d=\"M17.41 7.96l-1.37-1.37c-.4-.4-.92-.59-1.43-.59-.52 0-1.04.2-1.43.59L10.3 9.45l-7.72 7.72c-.78.78-.78 2.05 0 2.83L4 21.41c.39.39.9.59 1.41.59.51 0 1.02-.2 1.41-.59l7.78-7.78 2.81-2.81c.8-.78.8-2.07 0-2.86zM5.41 20L4 18.59l7.72-7.72 1.47 1.35L5.41 20z\"/>\n",
              "  </svg>\n",
              "      </button>\n",
              "      \n",
              "  <style>\n",
              "    .colab-df-container {\n",
              "      display:flex;\n",
              "      flex-wrap:wrap;\n",
              "      gap: 12px;\n",
              "    }\n",
              "\n",
              "    .colab-df-convert {\n",
              "      background-color: #E8F0FE;\n",
              "      border: none;\n",
              "      border-radius: 50%;\n",
              "      cursor: pointer;\n",
              "      display: none;\n",
              "      fill: #1967D2;\n",
              "      height: 32px;\n",
              "      padding: 0 0 0 0;\n",
              "      width: 32px;\n",
              "    }\n",
              "\n",
              "    .colab-df-convert:hover {\n",
              "      background-color: #E2EBFA;\n",
              "      box-shadow: 0px 1px 2px rgba(60, 64, 67, 0.3), 0px 1px 3px 1px rgba(60, 64, 67, 0.15);\n",
              "      fill: #174EA6;\n",
              "    }\n",
              "\n",
              "    [theme=dark] .colab-df-convert {\n",
              "      background-color: #3B4455;\n",
              "      fill: #D2E3FC;\n",
              "    }\n",
              "\n",
              "    [theme=dark] .colab-df-convert:hover {\n",
              "      background-color: #434B5C;\n",
              "      box-shadow: 0px 1px 3px 1px rgba(0, 0, 0, 0.15);\n",
              "      filter: drop-shadow(0px 1px 2px rgba(0, 0, 0, 0.3));\n",
              "      fill: #FFFFFF;\n",
              "    }\n",
              "  </style>\n",
              "\n",
              "      <script>\n",
              "        const buttonEl =\n",
              "          document.querySelector('#df-c41c3352-8c83-4a89-b99f-3501cafdccb5 button.colab-df-convert');\n",
              "        buttonEl.style.display =\n",
              "          google.colab.kernel.accessAllowed ? 'block' : 'none';\n",
              "\n",
              "        async function convertToInteractive(key) {\n",
              "          const element = document.querySelector('#df-c41c3352-8c83-4a89-b99f-3501cafdccb5');\n",
              "          const dataTable =\n",
              "            await google.colab.kernel.invokeFunction('convertToInteractive',\n",
              "                                                     [key], {});\n",
              "          if (!dataTable) return;\n",
              "\n",
              "          const docLinkHtml = 'Like what you see? Visit the ' +\n",
              "            '<a target=\"_blank\" href=https://colab.research.google.com/notebooks/data_table.ipynb>data table notebook</a>'\n",
              "            + ' to learn more about interactive tables.';\n",
              "          element.innerHTML = '';\n",
              "          dataTable['output_type'] = 'display_data';\n",
              "          await google.colab.output.renderOutput(dataTable, element);\n",
              "          const docLink = document.createElement('div');\n",
              "          docLink.innerHTML = docLinkHtml;\n",
              "          element.appendChild(docLink);\n",
              "        }\n",
              "      </script>\n",
              "    </div>\n",
              "  </div>\n",
              "  "
            ]
          },
          "metadata": {},
          "execution_count": 33
        }
      ]
    },
    {
      "cell_type": "code",
      "source": [
        "#Generar excel de los datos.\n",
        "df.to_csv('persona.csv')"
      ],
      "metadata": {
        "id": "YJHdDONl6c9D"
      },
      "execution_count": 34,
      "outputs": []
    }
  ]
}