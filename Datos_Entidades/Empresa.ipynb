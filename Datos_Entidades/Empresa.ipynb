{
  "nbformat": 4,
  "nbformat_minor": 0,
  "metadata": {
    "colab": {
      "provenance": []
    },
    "kernelspec": {
      "name": "python3",
      "display_name": "Python 3"
    },
    "language_info": {
      "name": "python"
    }
  },
  "cells": [
    {
      "cell_type": "markdown",
      "source": [
        "**Proyecto Final: Unidad 1**"
      ],
      "metadata": {
        "id": "AzorezBX5NwT"
      }
    },
    {
      "cell_type": "markdown",
      "source": [
        "**Entidad: empresa**"
      ],
      "metadata": {
        "id": "NfIByYM85PUa"
      }
    },
    {
      "cell_type": "code",
      "execution_count": 1,
      "metadata": {
        "colab": {
          "base_uri": "https://localhost:8080/"
        },
        "id": "IJrbcEwK0WXa",
        "outputId": "6e3df724-be9d-434f-fa53-212704711ea1"
      },
      "outputs": [
        {
          "output_type": "stream",
          "name": "stdout",
          "text": [
            "Looking in indexes: https://pypi.org/simple, https://us-python.pkg.dev/colab-wheels/public/simple/\n",
            "Collecting Faker\n",
            "  Downloading Faker-15.3.4-py3-none-any.whl (1.6 MB)\n",
            "\u001b[K     |████████████████████████████████| 1.6 MB 5.0 MB/s \n",
            "\u001b[?25hRequirement already satisfied: python-dateutil>=2.4 in /usr/local/lib/python3.8/dist-packages (from Faker) (2.8.2)\n",
            "Requirement already satisfied: six>=1.5 in /usr/local/lib/python3.8/dist-packages (from python-dateutil>=2.4->Faker) (1.15.0)\n",
            "Installing collected packages: Faker\n",
            "Successfully installed Faker-15.3.4\n"
          ]
        }
      ],
      "source": [
        "#Faker es un paquete de Python que genera datos falsos.\n",
        "!pip install Faker"
      ]
    },
    {
      "cell_type": "code",
      "source": [
        "#Librerías necesarias para la generación de datos.\n",
        "import pandas as pd\n",
        "import uuid\n",
        "import random\n",
        "from faker import Faker\n",
        "import datetime\n",
        "\n",
        "#Librerías necesarias para el detalle o la descripción.\n",
        "import string\n",
        "import random\n",
        "from random import seed\n",
        "from datetime import datetime"
      ],
      "metadata": {
        "id": "cvANwf7j5cr6"
      },
      "execution_count": 2,
      "outputs": []
    },
    {
      "cell_type": "code",
      "source": [
        "#Variable asignada para el tamaño del conjunto de datos. \n",
        "num_iess = 10000"
      ],
      "metadata": {
        "id": "RrvygY1f5h9S"
      },
      "execution_count": 3,
      "outputs": []
    },
    {
      "cell_type": "code",
      "source": [
        "#Lista de 5 características (Atributos)\n",
        "features = [\n",
        "    \"id_empresa\",\n",
        "    \"nombre_empresa\",\n",
        "    \"detalle_empresa\",\n",
        "    \"direccion_empresa\",\n",
        "    \"responsable_empresa\",\n",
        "]# Creando un DF para estas características\n",
        "df = pd.DataFrame(columns=features)"
      ],
      "metadata": {
        "id": "t9yFXapD5sJy"
      },
      "execution_count": 4,
      "outputs": []
    },
    {
      "cell_type": "markdown",
      "source": [
        "**id_empresa**"
      ],
      "metadata": {
        "id": "WWu6nFz_6I-6"
      }
    },
    {
      "cell_type": "code",
      "source": [
        "#Biblioteca uuid para generar cadena aleatoria de datos para id_perfil.\n",
        "df['id_empresa'] = [uuid.uuid4().hex for i in range(num_iess)]"
      ],
      "metadata": {
        "id": "_MZoIs466Ktb"
      },
      "execution_count": 5,
      "outputs": []
    },
    {
      "cell_type": "code",
      "source": [
        "#Genera identificaciones únicas para cada usuario. Si todas las ID en el conjunto de datos son únicas, devuelve True.\n",
        "print(df['id_empresa'].nunique()==num_iess)"
      ],
      "metadata": {
        "colab": {
          "base_uri": "https://localhost:8080/"
        },
        "id": "iG5NaPhk6RXi",
        "outputId": "f72a6258-2154-4f72-9c94-0ab057b34887"
      },
      "execution_count": 6,
      "outputs": [
        {
          "output_type": "stream",
          "name": "stdout",
          "text": [
            "True\n"
          ]
        }
      ]
    },
    {
      "cell_type": "markdown",
      "source": [
        "**nombre_empresa**"
      ],
      "metadata": {
        "id": "29uQKoKa7DOi"
      }
    },
    {
      "cell_type": "code",
      "source": [
        "#Variable para los géneros para la creación de los nombres.\n",
        "genero = [\"female\", \"male\"]"
      ],
      "metadata": {
        "id": "bqTxCAvq7E95"
      },
      "execution_count": 7,
      "outputs": []
    },
    {
      "cell_type": "code",
      "source": [
        "#Nombres.\n",
        "df['genero']= random.choices(\n",
        "    genero, \n",
        "    weights=(30,30), \n",
        "    k=num_iess)"
      ],
      "metadata": {
        "id": "N3n3TbjZ7IsR"
      },
      "execution_count": 8,
      "outputs": []
    },
    {
      "cell_type": "code",
      "source": [
        "#Instancia Faker\n",
        "faker = Faker()\n",
        "#Función.\n",
        "def name_gen(genero):\n",
        "    #Para masculino\n",
        "    if genero=='male':\n",
        "        return faker.name_male()\n",
        "    #Para femenino\n",
        "    elif genero=='female':\n",
        "        return faker.name_female()\n",
        "    #Genera los nombres\n",
        "    return faker.name()\n",
        "df['nombre_empresa'] = [name_gen(i) for i in df['genero']]"
      ],
      "metadata": {
        "id": "D1PjpUru7L-K"
      },
      "execution_count": 9,
      "outputs": []
    },
    {
      "cell_type": "markdown",
      "source": [
        "**detalle_empresa**"
      ],
      "metadata": {
        "id": "16GRAJhm798b"
      }
    },
    {
      "cell_type": "code",
      "source": [
        "#Variale tipo string junto con su longitud de cadena de caracteres.\n",
        "bio=[]\n",
        "length_of_string = 25\n",
        "#Crea el detalle del rol.\n",
        "for i in range(0, num_iess):\n",
        "  random.seed(datetime.now())\n",
        "  #La descripcion tiene todo tipo de caracteres.\n",
        "  bio=(''.join(random.SystemRandom().choice(string.ascii_letters + string.digits) for i in range(length_of_string)))\n",
        "  #Se guarda el detalle dle rol.\n",
        "  df.detalle_empresa[i] =bio"
      ],
      "metadata": {
        "id": "BCSl5O878Dm6"
      },
      "execution_count": 10,
      "outputs": []
    },
    {
      "cell_type": "markdown",
      "source": [
        "**direccion_empresa**"
      ],
      "metadata": {
        "id": "QVs6rV5a8gKh"
      }
    },
    {
      "cell_type": "code",
      "source": [
        "#Importaomos las librerias necesarias\n",
        "import string\n",
        "import random\n",
        "#Creamos la variale para la descripción de tipo string junto con su longitud de \n",
        "#cadena de caracteres\n",
        "bio=[]\n",
        "length_of_string = 20\n",
        "\n",
        "for i in range(0, num_iess):#Creamos la descripcion de la universidad\n",
        "  random.seed(datetime.now())\n",
        "  #La descripcion contendra todo tipo de caracteres.\n",
        "  bio=(''.join(random.SystemRandom().choice(string.ascii_letters + string.digits) for i in range(length_of_string)))\n",
        "  #Guardamos la descripcion en el atributo DescripcionUn\n",
        "  df.direccion_empresa[i] =bio"
      ],
      "metadata": {
        "id": "zDI0Bi7d8ipZ"
      },
      "execution_count": 11,
      "outputs": []
    },
    {
      "cell_type": "markdown",
      "source": [
        "**responsable_empresa**"
      ],
      "metadata": {
        "id": "LRcc8dNc8oDa"
      }
    },
    {
      "cell_type": "code",
      "source": [
        "#Instancia Faker\n",
        "faker = Faker()\n",
        "#Función.\n",
        "def name_gen(genero):\n",
        "    #Para masculino\n",
        "    if genero=='male':\n",
        "        return faker.name_male()\n",
        "    #Para femenino\n",
        "    elif genero=='female':\n",
        "        return faker.name_female()\n",
        "    #Genera los nombres\n",
        "    return faker.name()\n",
        "df['responsable_empresa'] = [name_gen(i) for i in df['genero']]"
      ],
      "metadata": {
        "id": "OKD8QWTF8qvw"
      },
      "execution_count": 12,
      "outputs": []
    },
    {
      "cell_type": "code",
      "source": [
        "#Eliminar genero, no es necesaerio para esta entidad.\n",
        "del(df['genero'])"
      ],
      "metadata": {
        "id": "nAwj9Qu18_XQ"
      },
      "execution_count": 13,
      "outputs": []
    },
    {
      "cell_type": "code",
      "source": [
        "#Visualizar en la tabla los datos generados antes de descargar el excel.\n",
        "df.head(5)"
      ],
      "metadata": {
        "colab": {
          "base_uri": "https://localhost:8080/",
          "height": 206
        },
        "id": "Hv19Bihm6YYa",
        "outputId": "b651159f-167a-45c8-b3df-54406dbf4a0c"
      },
      "execution_count": 14,
      "outputs": [
        {
          "output_type": "execute_result",
          "data": {
            "text/plain": [
              "                         id_empresa  nombre_empresa  \\\n",
              "0  728ade7291fe45e4a93aacf291a84ee3  William Howard   \n",
              "1  9f7d3a5bfdc94bfea00f0d6bb45e31ae  James Martinez   \n",
              "2  6e8ce773ac334f28a0f9f2963f239a54     John Murray   \n",
              "3  2ee67a5fbd03434585044a4fbca08396   Kevin Bradley   \n",
              "4  4813077889cb4669ae9f35915a60f112   Kristen Green   \n",
              "\n",
              "             detalle_empresa     direccion_empresa responsable_empresa  \n",
              "0  Rx3kC9HfwSMJf9pfqyrFjJ0eB  KAQIZPd4R2l13L7Fo6Sh          Randy Kidd  \n",
              "1  6YDyf6jFBloDmNiWU9vBlajm4  k7nwzDfU18v0jxhT3Meb         Donald Hunt  \n",
              "2  2plpncOFn2s40svphQZtvXC3M  wr1tZOrFSqlC0hII8V8e     Anthony Johnson  \n",
              "3  J9EASmsn9uJkDrHcsfwHy2ITl  iboRVApehdMLf32Whpoq           David May  \n",
              "4  rI8bJtVUkUWiN15veNDXaxYxC  Fordky40vARCMRmQBL2v     Brandi Robinson  "
            ],
            "text/html": [
              "\n",
              "  <div id=\"df-fd02ac5b-5c34-480b-b91c-c90bd551c0f6\">\n",
              "    <div class=\"colab-df-container\">\n",
              "      <div>\n",
              "<style scoped>\n",
              "    .dataframe tbody tr th:only-of-type {\n",
              "        vertical-align: middle;\n",
              "    }\n",
              "\n",
              "    .dataframe tbody tr th {\n",
              "        vertical-align: top;\n",
              "    }\n",
              "\n",
              "    .dataframe thead th {\n",
              "        text-align: right;\n",
              "    }\n",
              "</style>\n",
              "<table border=\"1\" class=\"dataframe\">\n",
              "  <thead>\n",
              "    <tr style=\"text-align: right;\">\n",
              "      <th></th>\n",
              "      <th>id_empresa</th>\n",
              "      <th>nombre_empresa</th>\n",
              "      <th>detalle_empresa</th>\n",
              "      <th>direccion_empresa</th>\n",
              "      <th>responsable_empresa</th>\n",
              "    </tr>\n",
              "  </thead>\n",
              "  <tbody>\n",
              "    <tr>\n",
              "      <th>0</th>\n",
              "      <td>728ade7291fe45e4a93aacf291a84ee3</td>\n",
              "      <td>William Howard</td>\n",
              "      <td>Rx3kC9HfwSMJf9pfqyrFjJ0eB</td>\n",
              "      <td>KAQIZPd4R2l13L7Fo6Sh</td>\n",
              "      <td>Randy Kidd</td>\n",
              "    </tr>\n",
              "    <tr>\n",
              "      <th>1</th>\n",
              "      <td>9f7d3a5bfdc94bfea00f0d6bb45e31ae</td>\n",
              "      <td>James Martinez</td>\n",
              "      <td>6YDyf6jFBloDmNiWU9vBlajm4</td>\n",
              "      <td>k7nwzDfU18v0jxhT3Meb</td>\n",
              "      <td>Donald Hunt</td>\n",
              "    </tr>\n",
              "    <tr>\n",
              "      <th>2</th>\n",
              "      <td>6e8ce773ac334f28a0f9f2963f239a54</td>\n",
              "      <td>John Murray</td>\n",
              "      <td>2plpncOFn2s40svphQZtvXC3M</td>\n",
              "      <td>wr1tZOrFSqlC0hII8V8e</td>\n",
              "      <td>Anthony Johnson</td>\n",
              "    </tr>\n",
              "    <tr>\n",
              "      <th>3</th>\n",
              "      <td>2ee67a5fbd03434585044a4fbca08396</td>\n",
              "      <td>Kevin Bradley</td>\n",
              "      <td>J9EASmsn9uJkDrHcsfwHy2ITl</td>\n",
              "      <td>iboRVApehdMLf32Whpoq</td>\n",
              "      <td>David May</td>\n",
              "    </tr>\n",
              "    <tr>\n",
              "      <th>4</th>\n",
              "      <td>4813077889cb4669ae9f35915a60f112</td>\n",
              "      <td>Kristen Green</td>\n",
              "      <td>rI8bJtVUkUWiN15veNDXaxYxC</td>\n",
              "      <td>Fordky40vARCMRmQBL2v</td>\n",
              "      <td>Brandi Robinson</td>\n",
              "    </tr>\n",
              "  </tbody>\n",
              "</table>\n",
              "</div>\n",
              "      <button class=\"colab-df-convert\" onclick=\"convertToInteractive('df-fd02ac5b-5c34-480b-b91c-c90bd551c0f6')\"\n",
              "              title=\"Convert this dataframe to an interactive table.\"\n",
              "              style=\"display:none;\">\n",
              "        \n",
              "  <svg xmlns=\"http://www.w3.org/2000/svg\" height=\"24px\"viewBox=\"0 0 24 24\"\n",
              "       width=\"24px\">\n",
              "    <path d=\"M0 0h24v24H0V0z\" fill=\"none\"/>\n",
              "    <path d=\"M18.56 5.44l.94 2.06.94-2.06 2.06-.94-2.06-.94-.94-2.06-.94 2.06-2.06.94zm-11 1L8.5 8.5l.94-2.06 2.06-.94-2.06-.94L8.5 2.5l-.94 2.06-2.06.94zm10 10l.94 2.06.94-2.06 2.06-.94-2.06-.94-.94-2.06-.94 2.06-2.06.94z\"/><path d=\"M17.41 7.96l-1.37-1.37c-.4-.4-.92-.59-1.43-.59-.52 0-1.04.2-1.43.59L10.3 9.45l-7.72 7.72c-.78.78-.78 2.05 0 2.83L4 21.41c.39.39.9.59 1.41.59.51 0 1.02-.2 1.41-.59l7.78-7.78 2.81-2.81c.8-.78.8-2.07 0-2.86zM5.41 20L4 18.59l7.72-7.72 1.47 1.35L5.41 20z\"/>\n",
              "  </svg>\n",
              "      </button>\n",
              "      \n",
              "  <style>\n",
              "    .colab-df-container {\n",
              "      display:flex;\n",
              "      flex-wrap:wrap;\n",
              "      gap: 12px;\n",
              "    }\n",
              "\n",
              "    .colab-df-convert {\n",
              "      background-color: #E8F0FE;\n",
              "      border: none;\n",
              "      border-radius: 50%;\n",
              "      cursor: pointer;\n",
              "      display: none;\n",
              "      fill: #1967D2;\n",
              "      height: 32px;\n",
              "      padding: 0 0 0 0;\n",
              "      width: 32px;\n",
              "    }\n",
              "\n",
              "    .colab-df-convert:hover {\n",
              "      background-color: #E2EBFA;\n",
              "      box-shadow: 0px 1px 2px rgba(60, 64, 67, 0.3), 0px 1px 3px 1px rgba(60, 64, 67, 0.15);\n",
              "      fill: #174EA6;\n",
              "    }\n",
              "\n",
              "    [theme=dark] .colab-df-convert {\n",
              "      background-color: #3B4455;\n",
              "      fill: #D2E3FC;\n",
              "    }\n",
              "\n",
              "    [theme=dark] .colab-df-convert:hover {\n",
              "      background-color: #434B5C;\n",
              "      box-shadow: 0px 1px 3px 1px rgba(0, 0, 0, 0.15);\n",
              "      filter: drop-shadow(0px 1px 2px rgba(0, 0, 0, 0.3));\n",
              "      fill: #FFFFFF;\n",
              "    }\n",
              "  </style>\n",
              "\n",
              "      <script>\n",
              "        const buttonEl =\n",
              "          document.querySelector('#df-fd02ac5b-5c34-480b-b91c-c90bd551c0f6 button.colab-df-convert');\n",
              "        buttonEl.style.display =\n",
              "          google.colab.kernel.accessAllowed ? 'block' : 'none';\n",
              "\n",
              "        async function convertToInteractive(key) {\n",
              "          const element = document.querySelector('#df-fd02ac5b-5c34-480b-b91c-c90bd551c0f6');\n",
              "          const dataTable =\n",
              "            await google.colab.kernel.invokeFunction('convertToInteractive',\n",
              "                                                     [key], {});\n",
              "          if (!dataTable) return;\n",
              "\n",
              "          const docLinkHtml = 'Like what you see? Visit the ' +\n",
              "            '<a target=\"_blank\" href=https://colab.research.google.com/notebooks/data_table.ipynb>data table notebook</a>'\n",
              "            + ' to learn more about interactive tables.';\n",
              "          element.innerHTML = '';\n",
              "          dataTable['output_type'] = 'display_data';\n",
              "          await google.colab.output.renderOutput(dataTable, element);\n",
              "          const docLink = document.createElement('div');\n",
              "          docLink.innerHTML = docLinkHtml;\n",
              "          element.appendChild(docLink);\n",
              "        }\n",
              "      </script>\n",
              "    </div>\n",
              "  </div>\n",
              "  "
            ]
          },
          "metadata": {},
          "execution_count": 14
        }
      ]
    },
    {
      "cell_type": "code",
      "source": [
        "#Generar excel de los datos.\n",
        "df.to_csv('empresa.csv')"
      ],
      "metadata": {
        "id": "qpQFCPQf9CAI"
      },
      "execution_count": 15,
      "outputs": []
    }
  ]
}