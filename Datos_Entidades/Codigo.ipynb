{
  "nbformat": 4,
  "nbformat_minor": 0,
  "metadata": {
    "colab": {
      "provenance": []
    },
    "kernelspec": {
      "name": "python3",
      "display_name": "Python 3"
    },
    "language_info": {
      "name": "python"
    }
  },
  "cells": [
    {
      "cell_type": "markdown",
      "source": [
        "**Proyecto Final: Unidad 1**"
      ],
      "metadata": {
        "id": "YhM0xF7JzT78"
      }
    },
    {
      "cell_type": "markdown",
      "source": [
        "**Entidad: Codigo**"
      ],
      "metadata": {
        "id": "Nx-B0dePzTzX"
      }
    },
    {
      "cell_type": "code",
      "execution_count": 49,
      "metadata": {
        "colab": {
          "base_uri": "https://localhost:8080/"
        },
        "id": "2tePecydy-I0",
        "outputId": "fd13ff46-098d-4ef7-c68e-8ae4dea01ab0"
      },
      "outputs": [
        {
          "output_type": "stream",
          "name": "stdout",
          "text": [
            "Looking in indexes: https://pypi.org/simple, https://us-python.pkg.dev/colab-wheels/public/simple/\n",
            "Requirement already satisfied: Faker in /usr/local/lib/python3.8/dist-packages (15.3.4)\n",
            "Requirement already satisfied: python-dateutil>=2.4 in /usr/local/lib/python3.8/dist-packages (from Faker) (2.8.2)\n",
            "Requirement already satisfied: six>=1.5 in /usr/local/lib/python3.8/dist-packages (from python-dateutil>=2.4->Faker) (1.15.0)\n"
          ]
        }
      ],
      "source": [
        "#Faker es un paquete de Python que genera datos falsos.\n",
        "!pip install Faker"
      ]
    },
    {
      "cell_type": "code",
      "source": [
        "#Librerías necesarias para la generación de datos.\n",
        "import pandas as pd\n",
        "import uuid\n",
        "import random\n",
        "from faker import Faker\n",
        "import datetime\n",
        "\n",
        "#Librerías para generar cadena de numeros\n",
        "import random as r\n",
        "from random import seed\n",
        "\n",
        "#Librerías para generar fechas\n",
        "import string\n",
        "from random import randint\n",
        "from datetime import datetime"
      ],
      "metadata": {
        "id": "VOCS1GGA0AYh"
      },
      "execution_count": 50,
      "outputs": []
    },
    {
      "cell_type": "code",
      "source": [
        "#Variable asignada para el tamaño del conjunto de datos. \n",
        "num_iess = 10000"
      ],
      "metadata": {
        "id": "T7sW5ZIc0Cr1"
      },
      "execution_count": 51,
      "outputs": []
    },
    {
      "cell_type": "markdown",
      "source": [
        "\n",
        "     - id_codigo: una cadena de números para identificar en este caso un codigo\n",
        "     - nombre_codigo:tipo de cadena con un nombre de un codigo\n",
        "     - artículo: cadena de números para representar números\n",
        "     - estado_codigo: tipo de cadena que describe estado de actividad o no actividad\n",
        "     - detalle_codigo:una cadena de caracteres para simular información "
      ],
      "metadata": {
        "id": "QSVsPhcy0hPD"
      }
    },
    {
      "cell_type": "markdown",
      "source": [
        "Se ingresan los atributos como una lista para inicializar un marco de datos de Pandas:"
      ],
      "metadata": {
        "id": "iIOyhae03BR5"
      }
    },
    {
      "cell_type": "code",
      "source": [
        "#Lista de 5 características (Atributos)\n",
        "features = [\n",
        "    \"id_codigo\",\n",
        "    \"nombre_codigo\",\n",
        "    \"articulo\",\n",
        "    \"estado_codigo\",\n",
        "    \"detalle_codigo\",\n",
        "    \"id_base_legal\",\n",
        "]# Creando un DF para estas características\n",
        "df = pd.DataFrame(columns=features)"
      ],
      "metadata": {
        "id": "HlmD2nbs3AHF"
      },
      "execution_count": 52,
      "outputs": []
    },
    {
      "cell_type": "markdown",
      "source": [
        "**id_codigo**"
      ],
      "metadata": {
        "id": "wCoUJhOG4ZyJ"
      }
    },
    {
      "cell_type": "code",
      "source": [
        "#Biblioteca uuid para generar cadena aleatoria de datos para id_perfil.\n",
        "df['id_codigo'] = [uuid.uuid4().hex for i in range(num_iess)]"
      ],
      "metadata": {
        "id": "vjLLgIgf4_CP"
      },
      "execution_count": 53,
      "outputs": []
    },
    {
      "cell_type": "code",
      "source": [
        "#Genera identificaciones únicas para cada usuario. Si todas las ID en el conjunto de datos son únicas, devuelve True.\n",
        "print(df['id_codigo'].nunique()==num_iess)"
      ],
      "metadata": {
        "colab": {
          "base_uri": "https://localhost:8080/"
        },
        "id": "GlviEqhA5BTY",
        "outputId": "ba226820-64be-482b-c517-6cbcc4601b35"
      },
      "execution_count": 54,
      "outputs": [
        {
          "output_type": "stream",
          "name": "stdout",
          "text": [
            "True\n"
          ]
        }
      ]
    },
    {
      "cell_type": "markdown",
      "source": [
        "**nombre_codigo**"
      ],
      "metadata": {
        "id": "7TYkIuiA4ana"
      }
    },
    {
      "cell_type": "code",
      "source": [
        "#Los diferentes nombres de codigos.\n",
        "nombre_codigo= ['Código del Trabajo','Código Cívil','Código Orgánico Integral','Código de Comercio']\n",
        "#Creacion de los permisos para cada una de las filas\n",
        "df['nombre_codigo'] = random.choices(\n",
        "  nombre_codigo, \n",
        "    weights=(40,10,10,5), \n",
        "    k=num_iess\n",
        ")"
      ],
      "metadata": {
        "id": "UBgaoK4u5FZD"
      },
      "execution_count": 55,
      "outputs": []
    },
    {
      "cell_type": "markdown",
      "source": [
        "**articulo**"
      ],
      "metadata": {
        "id": "Kb9gLylP4a7d"
      }
    },
    {
      "cell_type": "code",
      "source": [
        "articulos=[]\n",
        "#Cantidad de números para la cadena..\n",
        "size = 2\n",
        "for i in range(0, num_iess):\n",
        "  random.seed(datetime.now())\n",
        "  #Números opcionales para formar la cadena.\n",
        "  valores = [0,1,2,3,4,5,6,7,8,9]\n",
        "  articulos=(''.join([str(random.choice(valores)) for i in range(size)]))\n",
        "  #Se guarda los números \n",
        "  df.articulo[i]=articulos"
      ],
      "metadata": {
        "id": "eQ2O92AI5q-Z"
      },
      "execution_count": 56,
      "outputs": []
    },
    {
      "cell_type": "markdown",
      "source": [
        "**estado_codigo**"
      ],
      "metadata": {
        "id": "EPkfKNb44bwI"
      }
    },
    {
      "cell_type": "code",
      "source": [
        "#Los diferentes nombres de servicios.\n",
        "estado_codigo= ['Activo','Inactivo']\n",
        "#Creacion de los permisos para cada una de las filas\n",
        "df['estado_codigo'] = random.choices(\n",
        "  estado_codigo, \n",
        "    weights=(40,10), \n",
        "    k=num_iess\n",
        ")"
      ],
      "metadata": {
        "id": "dTPqMisz6DvW"
      },
      "execution_count": 57,
      "outputs": []
    },
    {
      "cell_type": "markdown",
      "source": [
        "**detalle_codigo**"
      ],
      "metadata": {
        "id": "JULai7OB4cJX"
      }
    },
    {
      "cell_type": "code",
      "source": [
        "#Creamos la variale para la descripción de tipo string junto con su longitud de \n",
        "#cadena de caracteres\n",
        "bio=[]\n",
        "length_of_string = 20\n",
        "\n",
        "for i in range(0, num_iess):#Creamos la descripcion de la universidad\n",
        "  random.seed(datetime.now())\n",
        "  #La descripcion contendra todo tipo de caracteres.\n",
        "  bio=(''.join(random.SystemRandom().choice(string.ascii_letters + string.digits) for i in range(length_of_string)))\n",
        "  #Guardamos la descripcion en el atributo DescripcionUn\n",
        "  df.detalle_codigo[i] =bio"
      ],
      "metadata": {
        "id": "f2HjbKoX64VH"
      },
      "execution_count": 58,
      "outputs": []
    },
    {
      "cell_type": "markdown",
      "source": [
        "**id_base_legal**"
      ],
      "metadata": {
        "id": "lRC0KB1P4dCY"
      }
    },
    {
      "cell_type": "code",
      "source": [
        "#Biblioteca uuid para generar cadena aleatoria de datos para id_perfil.\n",
        "df['id_base_legal'] = [uuid.uuid4().hex for i in range(num_iess)]"
      ],
      "metadata": {
        "id": "iFqB55LS6_dK"
      },
      "execution_count": 59,
      "outputs": []
    },
    {
      "cell_type": "code",
      "source": [
        "#Genera identificaciones únicas para cada usuario. Si todas las ID en el conjunto de datos son únicas, devuelve True.\n",
        "print(df['id_base_legal'].nunique()==num_iess)"
      ],
      "metadata": {
        "colab": {
          "base_uri": "https://localhost:8080/"
        },
        "id": "tbl-UKQh7D9M",
        "outputId": "f3731efa-7dae-487c-eea0-f850dc8ffb66"
      },
      "execution_count": 60,
      "outputs": [
        {
          "output_type": "stream",
          "name": "stdout",
          "text": [
            "True\n"
          ]
        }
      ]
    },
    {
      "cell_type": "code",
      "source": [
        "#Visualizar en la tabla los datos generados antes de descargar el excel.\n",
        "df.head(5)"
      ],
      "metadata": {
        "colab": {
          "base_uri": "https://localhost:8080/",
          "height": 206
        },
        "id": "az3Soad58C3z",
        "outputId": "223d8688-e12c-4a5b-b41b-f39145572869"
      },
      "execution_count": 61,
      "outputs": [
        {
          "output_type": "execute_result",
          "data": {
            "text/plain": [
              "                          id_codigo             nombre_codigo articulo  \\\n",
              "0  681ae76c38ed4ebb9c038e8ebea1a976  Código Orgánico Integral       59   \n",
              "1  b1c1d8c3d01f4c6384b587e82e3679d2        Código del Trabajo       11   \n",
              "2  c1e8a7e1df454c51b1f4311494a09d1f        Código del Trabajo       53   \n",
              "3  616c4391454d4b72a64f26ad4dcc3d64              Código Cívil       46   \n",
              "4  f268e774f5b44b408458d0253fb85733  Código Orgánico Integral       52   \n",
              "\n",
              "  estado_codigo        detalle_codigo                     id_base_legal  \n",
              "0        Activo  le7Yp280W8bY64PbNjL8  ca12d1b1bcfa41d785a0c6f39b752f73  \n",
              "1        Activo  cd68Eh6Y5j1xoRooFXv6  12b098b5716541e4aeaeaf169a931cd8  \n",
              "2      Inactivo  uXKbnN0HcVWdIysb1v4H  9de69d35c76a4b17b810c2731e2b2e5d  \n",
              "3        Activo  VioMfN9KofaXnrrnlxXH  8d25c465ce244e9aa071c519723a7070  \n",
              "4        Activo  DkSRQg9rBI4wDTIGhBtd  de0d62b2e43d41559e78991186f07842  "
            ],
            "text/html": [
              "\n",
              "  <div id=\"df-41e6fb8d-6ad6-436f-b29c-70b870dd8b4b\">\n",
              "    <div class=\"colab-df-container\">\n",
              "      <div>\n",
              "<style scoped>\n",
              "    .dataframe tbody tr th:only-of-type {\n",
              "        vertical-align: middle;\n",
              "    }\n",
              "\n",
              "    .dataframe tbody tr th {\n",
              "        vertical-align: top;\n",
              "    }\n",
              "\n",
              "    .dataframe thead th {\n",
              "        text-align: right;\n",
              "    }\n",
              "</style>\n",
              "<table border=\"1\" class=\"dataframe\">\n",
              "  <thead>\n",
              "    <tr style=\"text-align: right;\">\n",
              "      <th></th>\n",
              "      <th>id_codigo</th>\n",
              "      <th>nombre_codigo</th>\n",
              "      <th>articulo</th>\n",
              "      <th>estado_codigo</th>\n",
              "      <th>detalle_codigo</th>\n",
              "      <th>id_base_legal</th>\n",
              "    </tr>\n",
              "  </thead>\n",
              "  <tbody>\n",
              "    <tr>\n",
              "      <th>0</th>\n",
              "      <td>681ae76c38ed4ebb9c038e8ebea1a976</td>\n",
              "      <td>Código Orgánico Integral</td>\n",
              "      <td>59</td>\n",
              "      <td>Activo</td>\n",
              "      <td>le7Yp280W8bY64PbNjL8</td>\n",
              "      <td>ca12d1b1bcfa41d785a0c6f39b752f73</td>\n",
              "    </tr>\n",
              "    <tr>\n",
              "      <th>1</th>\n",
              "      <td>b1c1d8c3d01f4c6384b587e82e3679d2</td>\n",
              "      <td>Código del Trabajo</td>\n",
              "      <td>11</td>\n",
              "      <td>Activo</td>\n",
              "      <td>cd68Eh6Y5j1xoRooFXv6</td>\n",
              "      <td>12b098b5716541e4aeaeaf169a931cd8</td>\n",
              "    </tr>\n",
              "    <tr>\n",
              "      <th>2</th>\n",
              "      <td>c1e8a7e1df454c51b1f4311494a09d1f</td>\n",
              "      <td>Código del Trabajo</td>\n",
              "      <td>53</td>\n",
              "      <td>Inactivo</td>\n",
              "      <td>uXKbnN0HcVWdIysb1v4H</td>\n",
              "      <td>9de69d35c76a4b17b810c2731e2b2e5d</td>\n",
              "    </tr>\n",
              "    <tr>\n",
              "      <th>3</th>\n",
              "      <td>616c4391454d4b72a64f26ad4dcc3d64</td>\n",
              "      <td>Código Cívil</td>\n",
              "      <td>46</td>\n",
              "      <td>Activo</td>\n",
              "      <td>VioMfN9KofaXnrrnlxXH</td>\n",
              "      <td>8d25c465ce244e9aa071c519723a7070</td>\n",
              "    </tr>\n",
              "    <tr>\n",
              "      <th>4</th>\n",
              "      <td>f268e774f5b44b408458d0253fb85733</td>\n",
              "      <td>Código Orgánico Integral</td>\n",
              "      <td>52</td>\n",
              "      <td>Activo</td>\n",
              "      <td>DkSRQg9rBI4wDTIGhBtd</td>\n",
              "      <td>de0d62b2e43d41559e78991186f07842</td>\n",
              "    </tr>\n",
              "  </tbody>\n",
              "</table>\n",
              "</div>\n",
              "      <button class=\"colab-df-convert\" onclick=\"convertToInteractive('df-41e6fb8d-6ad6-436f-b29c-70b870dd8b4b')\"\n",
              "              title=\"Convert this dataframe to an interactive table.\"\n",
              "              style=\"display:none;\">\n",
              "        \n",
              "  <svg xmlns=\"http://www.w3.org/2000/svg\" height=\"24px\"viewBox=\"0 0 24 24\"\n",
              "       width=\"24px\">\n",
              "    <path d=\"M0 0h24v24H0V0z\" fill=\"none\"/>\n",
              "    <path d=\"M18.56 5.44l.94 2.06.94-2.06 2.06-.94-2.06-.94-.94-2.06-.94 2.06-2.06.94zm-11 1L8.5 8.5l.94-2.06 2.06-.94-2.06-.94L8.5 2.5l-.94 2.06-2.06.94zm10 10l.94 2.06.94-2.06 2.06-.94-2.06-.94-.94-2.06-.94 2.06-2.06.94z\"/><path d=\"M17.41 7.96l-1.37-1.37c-.4-.4-.92-.59-1.43-.59-.52 0-1.04.2-1.43.59L10.3 9.45l-7.72 7.72c-.78.78-.78 2.05 0 2.83L4 21.41c.39.39.9.59 1.41.59.51 0 1.02-.2 1.41-.59l7.78-7.78 2.81-2.81c.8-.78.8-2.07 0-2.86zM5.41 20L4 18.59l7.72-7.72 1.47 1.35L5.41 20z\"/>\n",
              "  </svg>\n",
              "      </button>\n",
              "      \n",
              "  <style>\n",
              "    .colab-df-container {\n",
              "      display:flex;\n",
              "      flex-wrap:wrap;\n",
              "      gap: 12px;\n",
              "    }\n",
              "\n",
              "    .colab-df-convert {\n",
              "      background-color: #E8F0FE;\n",
              "      border: none;\n",
              "      border-radius: 50%;\n",
              "      cursor: pointer;\n",
              "      display: none;\n",
              "      fill: #1967D2;\n",
              "      height: 32px;\n",
              "      padding: 0 0 0 0;\n",
              "      width: 32px;\n",
              "    }\n",
              "\n",
              "    .colab-df-convert:hover {\n",
              "      background-color: #E2EBFA;\n",
              "      box-shadow: 0px 1px 2px rgba(60, 64, 67, 0.3), 0px 1px 3px 1px rgba(60, 64, 67, 0.15);\n",
              "      fill: #174EA6;\n",
              "    }\n",
              "\n",
              "    [theme=dark] .colab-df-convert {\n",
              "      background-color: #3B4455;\n",
              "      fill: #D2E3FC;\n",
              "    }\n",
              "\n",
              "    [theme=dark] .colab-df-convert:hover {\n",
              "      background-color: #434B5C;\n",
              "      box-shadow: 0px 1px 3px 1px rgba(0, 0, 0, 0.15);\n",
              "      filter: drop-shadow(0px 1px 2px rgba(0, 0, 0, 0.3));\n",
              "      fill: #FFFFFF;\n",
              "    }\n",
              "  </style>\n",
              "\n",
              "      <script>\n",
              "        const buttonEl =\n",
              "          document.querySelector('#df-41e6fb8d-6ad6-436f-b29c-70b870dd8b4b button.colab-df-convert');\n",
              "        buttonEl.style.display =\n",
              "          google.colab.kernel.accessAllowed ? 'block' : 'none';\n",
              "\n",
              "        async function convertToInteractive(key) {\n",
              "          const element = document.querySelector('#df-41e6fb8d-6ad6-436f-b29c-70b870dd8b4b');\n",
              "          const dataTable =\n",
              "            await google.colab.kernel.invokeFunction('convertToInteractive',\n",
              "                                                     [key], {});\n",
              "          if (!dataTable) return;\n",
              "\n",
              "          const docLinkHtml = 'Like what you see? Visit the ' +\n",
              "            '<a target=\"_blank\" href=https://colab.research.google.com/notebooks/data_table.ipynb>data table notebook</a>'\n",
              "            + ' to learn more about interactive tables.';\n",
              "          element.innerHTML = '';\n",
              "          dataTable['output_type'] = 'display_data';\n",
              "          await google.colab.output.renderOutput(dataTable, element);\n",
              "          const docLink = document.createElement('div');\n",
              "          docLink.innerHTML = docLinkHtml;\n",
              "          element.appendChild(docLink);\n",
              "        }\n",
              "      </script>\n",
              "    </div>\n",
              "  </div>\n",
              "  "
            ]
          },
          "metadata": {},
          "execution_count": 61
        }
      ]
    },
    {
      "cell_type": "code",
      "source": [
        "#Generar excel de los datos.\n",
        "df.to_csv('Codigo.csv')"
      ],
      "metadata": {
        "id": "ghcERsYR8EN7"
      },
      "execution_count": 62,
      "outputs": []
    }
  ]
}