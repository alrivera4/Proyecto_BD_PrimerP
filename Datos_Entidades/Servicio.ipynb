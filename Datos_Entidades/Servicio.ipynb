{
  "nbformat": 4,
  "nbformat_minor": 0,
  "metadata": {
    "colab": {
      "provenance": []
    },
    "kernelspec": {
      "name": "python3",
      "display_name": "Python 3"
    },
    "language_info": {
      "name": "python"
    }
  },
  "cells": [
    {
      "cell_type": "markdown",
      "source": [
        "**Proyecto Final: Unidad 1**"
      ],
      "metadata": {
        "id": "vtr1kYwmT6x3"
      }
    },
    {
      "cell_type": "markdown",
      "source": [
        "**Entidad: Servicio**"
      ],
      "metadata": {
        "id": "-wKIkUEiT7Jd"
      }
    },
    {
      "cell_type": "code",
      "execution_count": null,
      "metadata": {
        "colab": {
          "base_uri": "https://localhost:8080/"
        },
        "id": "CrgzSyGITnNN",
        "outputId": "8141bf8d-b4e4-458f-d13c-1a22679635d6"
      },
      "outputs": [
        {
          "output_type": "stream",
          "name": "stdout",
          "text": [
            "Looking in indexes: https://pypi.org/simple, https://us-python.pkg.dev/colab-wheels/public/simple/\n",
            "Requirement already satisfied: Faker in /usr/local/lib/python3.8/dist-packages (15.3.4)\n",
            "Requirement already satisfied: python-dateutil>=2.4 in /usr/local/lib/python3.8/dist-packages (from Faker) (2.8.2)\n",
            "Requirement already satisfied: six>=1.5 in /usr/local/lib/python3.8/dist-packages (from python-dateutil>=2.4->Faker) (1.15.0)\n"
          ]
        }
      ],
      "source": [
        "#Faker es un paquete de Python que genera datos falsos.\n",
        "!pip install Faker"
      ]
    },
    {
      "cell_type": "code",
      "source": [
        "#Librerías necesarias para la generación de datos.\n",
        "import pandas as pd\n",
        "import uuid\n",
        "import random\n",
        "from faker import Faker\n",
        "import datetime\n",
        "\n",
        "#Librerías para generar cadena de numeros\n",
        "import random as r\n",
        "from random import seed\n",
        "\n",
        "#Librerías para generar fechas\n",
        "import string\n",
        "from random import randint\n",
        "from datetime import datetime"
      ],
      "metadata": {
        "id": "MxuF3wsyUTbq"
      },
      "execution_count": null,
      "outputs": []
    },
    {
      "cell_type": "code",
      "source": [
        "#Variable asignada para el tamaño del conjunto de datos. \n",
        "num_iess = 10000"
      ],
      "metadata": {
        "id": "Yo9uACLcUWvB"
      },
      "execution_count": null,
      "outputs": []
    },
    {
      "cell_type": "markdown",
      "source": [
        "\n",
        "     - id_servicio: una cadena de números para identificar en este caso un servicio\n",
        "     - nombre_servicio:tipo de cadena con un nombre de servicio\n",
        "     - tipo_servicio: tipo de cadena que define el tipo de servicio\n",
        "     - detalle_servicio: tipo de cadena que describe el servicio\n",
        "     - id_afiliacion:una cadena de números para identificar en este caso un tipo de afilicion"
      ],
      "metadata": {
        "id": "ICC46W2vUn6-"
      }
    },
    {
      "cell_type": "markdown",
      "source": [
        "Se ingresan los atributos como una lista para inicializar un marco de datos de Pandas:"
      ],
      "metadata": {
        "id": "w7g3W8F6Uq3y"
      }
    },
    {
      "cell_type": "code",
      "source": [
        "#Lista de 5 características (Atributos)\n",
        "features = [\n",
        "    \"id_servicio\",\n",
        "    \"nombre_servicio\",\n",
        "    \"tipo_servicio\",\n",
        "    \"detalle_servicio\",\n",
        "    \"id_afiliacion\",\n",
        "]# Creando un DF para estas características\n",
        "df = pd.DataFrame(columns=features)"
      ],
      "metadata": {
        "id": "GX-QuceMUXVJ"
      },
      "execution_count": null,
      "outputs": []
    },
    {
      "cell_type": "markdown",
      "source": [
        "**id_servicio**"
      ],
      "metadata": {
        "id": "7ZbeJhloWCjG"
      }
    },
    {
      "cell_type": "code",
      "source": [
        "#Biblioteca uuid para generar cadena aleatoria de datos para id_perfil.\n",
        "df['id_servicio'] = [uuid.uuid4().hex for i in range(num_iess)]"
      ],
      "metadata": {
        "id": "cbmsX0z5WWSO"
      },
      "execution_count": null,
      "outputs": []
    },
    {
      "cell_type": "code",
      "source": [
        "#Genera identificaciones únicas para cada usuario. Si todas las ID en el conjunto de datos son únicas, devuelve True.\n",
        "print(df['id_servicio'].nunique()==num_iess)"
      ],
      "metadata": {
        "colab": {
          "base_uri": "https://localhost:8080/"
        },
        "id": "i7mWm5zeWY1Y",
        "outputId": "e656dee8-0060-450a-975d-60a55774caf6"
      },
      "execution_count": null,
      "outputs": [
        {
          "output_type": "stream",
          "name": "stdout",
          "text": [
            "True\n"
          ]
        }
      ]
    },
    {
      "cell_type": "markdown",
      "source": [
        "**nombre_servicio**"
      ],
      "metadata": {
        "id": "WDoy0ZS8WFJI"
      }
    },
    {
      "cell_type": "code",
      "source": [
        "#Los diferentes nombres de servicios.\n",
        "nombre_servicio= ['Atención médica','Jubilación','Préstamo','Mortuorio']\n",
        "#Creacion de los permisos para cada una de las filas\n",
        "df['nombre_servicio'] = random.choices(\n",
        "  nombre_servicio, \n",
        "    weights=(40,10,10,5), \n",
        "    k=num_iess\n",
        ")"
      ],
      "metadata": {
        "id": "W5L6EyFhWpwm"
      },
      "execution_count": null,
      "outputs": []
    },
    {
      "cell_type": "markdown",
      "source": [
        "**tipo_servicio**"
      ],
      "metadata": {
        "id": "gIhq3PV_WLNA"
      }
    },
    {
      "cell_type": "code",
      "source": [
        "#Los diferentes nombres de roles.\n",
        "tipo_servicio = ['Cita','Web','CallCenter','Ventanilla']\n",
        "#Creacion de los permisos para cada una de las filas\n",
        "df['tipo_servicio'] = random.choices(\n",
        "  tipo_servicio, \n",
        "    weights=(30,40,20,5), \n",
        "    k=num_iess\n",
        ")"
      ],
      "metadata": {
        "id": "JMUVXiw-XZEm"
      },
      "execution_count": null,
      "outputs": []
    },
    {
      "cell_type": "markdown",
      "source": [
        "**detalle_servicio**"
      ],
      "metadata": {
        "id": "b3yJO27FWNn1"
      }
    },
    {
      "cell_type": "code",
      "source": [
        "#Importaomos las librerias necesarias\n",
        "import string\n",
        "import random\n",
        "#Creamos la variale para la descripción de tipo string junto con su longitud de \n",
        "#cadena de caracteres\n",
        "bio=[]\n",
        "length_of_string = 20\n",
        "\n",
        "for i in range(0, num_iess):#Creamos la descripcion de la universidad\n",
        "  random.seed(datetime.now())\n",
        "  #La descripcion contendra todo tipo de caracteres.\n",
        "  bio=(''.join(random.SystemRandom().choice(string.ascii_letters + string.digits) for i in range(length_of_string)))\n",
        "  #Guardamos la descripcion en el atributo DescripcionUn\n",
        "  df.detalle_servicio[i] =bio"
      ],
      "metadata": {
        "id": "rG3GZfSJWJa5"
      },
      "execution_count": null,
      "outputs": []
    },
    {
      "cell_type": "markdown",
      "source": [
        "**id_afiliacion**"
      ],
      "metadata": {
        "id": "8vXM-QIiWT7i"
      }
    },
    {
      "cell_type": "code",
      "source": [
        "#Biblioteca uuid para generar cadena aleatoria de datos para id_perfil.\n",
        "df['id_afiliacion'] = [uuid.uuid4().hex for i in range(num_iess)]"
      ],
      "metadata": {
        "id": "bht-y8_xWThY"
      },
      "execution_count": null,
      "outputs": []
    },
    {
      "cell_type": "code",
      "source": [
        "#Genera identificaciones únicas para cada usuario. Si todas las ID en el conjunto de datos son únicas, devuelve True.\n",
        "print(df['id_afiliacion'].nunique()==num_iess)"
      ],
      "metadata": {
        "colab": {
          "base_uri": "https://localhost:8080/"
        },
        "id": "bZRbTIbIYDLm",
        "outputId": "e8038dc7-38b7-4353-f800-8879b05fc107"
      },
      "execution_count": null,
      "outputs": [
        {
          "output_type": "stream",
          "name": "stdout",
          "text": [
            "True\n"
          ]
        }
      ]
    },
    {
      "cell_type": "code",
      "source": [
        "#Visualizar en la tabla los datos generados antes de descargar el excel.\n",
        "df.head(5)"
      ],
      "metadata": {
        "colab": {
          "base_uri": "https://localhost:8080/",
          "height": 270
        },
        "id": "NI9w2HbKXzDF",
        "outputId": "41bff4c1-75b2-4cac-e5db-77ade9403d84"
      },
      "execution_count": null,
      "outputs": [
        {
          "output_type": "execute_result",
          "data": {
            "text/plain": [
              "                        id_servicio  nombre_servicio tipo_servicio  \\\n",
              "0  d82b2870a1444690a2621afb8a0d923b  Atención médica           Web   \n",
              "1  8fb0b0162e7a402ba3b117f9d9d8c6f6  Atención médica          Cita   \n",
              "2  bf5badc33ef84f14b3d62112db926b6b       Jubilación          Cita   \n",
              "3  015cf8cd18f74b049b0f724da61eeaf0       Jubilación          Cita   \n",
              "4  b2a16a3c718948738b10a7d8567ea44d       Jubilación    CallCenter   \n",
              "\n",
              "       detalle_servicio                     id_afiliacion  \n",
              "0  o0LFDdbOUSGh540B6lfi  9bdaacebf9f546b6b12363e7af5065a6  \n",
              "1  JeQ1PfOYXHrGzCQbEBPz  9ffb4eaab1f14faba4c38215dbfc6721  \n",
              "2  YmwGPXal11SRhXCx6NhD  51863b3fbb6e4e5380393097120d440c  \n",
              "3  2PL6My7Rwl7H86xu5es9  48718d8a047d465ba530f3a2154c6caf  \n",
              "4  QYx1QepWai0h5kTLTDkm  3ab8f7dd36e74283b2a3bc9809354873  "
            ],
            "text/html": [
              "\n",
              "  <div id=\"df-840a637a-d469-4a03-86ff-a6f07182fc03\">\n",
              "    <div class=\"colab-df-container\">\n",
              "      <div>\n",
              "<style scoped>\n",
              "    .dataframe tbody tr th:only-of-type {\n",
              "        vertical-align: middle;\n",
              "    }\n",
              "\n",
              "    .dataframe tbody tr th {\n",
              "        vertical-align: top;\n",
              "    }\n",
              "\n",
              "    .dataframe thead th {\n",
              "        text-align: right;\n",
              "    }\n",
              "</style>\n",
              "<table border=\"1\" class=\"dataframe\">\n",
              "  <thead>\n",
              "    <tr style=\"text-align: right;\">\n",
              "      <th></th>\n",
              "      <th>id_servicio</th>\n",
              "      <th>nombre_servicio</th>\n",
              "      <th>tipo_servicio</th>\n",
              "      <th>detalle_servicio</th>\n",
              "      <th>id_afiliacion</th>\n",
              "    </tr>\n",
              "  </thead>\n",
              "  <tbody>\n",
              "    <tr>\n",
              "      <th>0</th>\n",
              "      <td>d82b2870a1444690a2621afb8a0d923b</td>\n",
              "      <td>Atención médica</td>\n",
              "      <td>Web</td>\n",
              "      <td>o0LFDdbOUSGh540B6lfi</td>\n",
              "      <td>9bdaacebf9f546b6b12363e7af5065a6</td>\n",
              "    </tr>\n",
              "    <tr>\n",
              "      <th>1</th>\n",
              "      <td>8fb0b0162e7a402ba3b117f9d9d8c6f6</td>\n",
              "      <td>Atención médica</td>\n",
              "      <td>Cita</td>\n",
              "      <td>JeQ1PfOYXHrGzCQbEBPz</td>\n",
              "      <td>9ffb4eaab1f14faba4c38215dbfc6721</td>\n",
              "    </tr>\n",
              "    <tr>\n",
              "      <th>2</th>\n",
              "      <td>bf5badc33ef84f14b3d62112db926b6b</td>\n",
              "      <td>Jubilación</td>\n",
              "      <td>Cita</td>\n",
              "      <td>YmwGPXal11SRhXCx6NhD</td>\n",
              "      <td>51863b3fbb6e4e5380393097120d440c</td>\n",
              "    </tr>\n",
              "    <tr>\n",
              "      <th>3</th>\n",
              "      <td>015cf8cd18f74b049b0f724da61eeaf0</td>\n",
              "      <td>Jubilación</td>\n",
              "      <td>Cita</td>\n",
              "      <td>2PL6My7Rwl7H86xu5es9</td>\n",
              "      <td>48718d8a047d465ba530f3a2154c6caf</td>\n",
              "    </tr>\n",
              "    <tr>\n",
              "      <th>4</th>\n",
              "      <td>b2a16a3c718948738b10a7d8567ea44d</td>\n",
              "      <td>Jubilación</td>\n",
              "      <td>CallCenter</td>\n",
              "      <td>QYx1QepWai0h5kTLTDkm</td>\n",
              "      <td>3ab8f7dd36e74283b2a3bc9809354873</td>\n",
              "    </tr>\n",
              "  </tbody>\n",
              "</table>\n",
              "</div>\n",
              "      <button class=\"colab-df-convert\" onclick=\"convertToInteractive('df-840a637a-d469-4a03-86ff-a6f07182fc03')\"\n",
              "              title=\"Convert this dataframe to an interactive table.\"\n",
              "              style=\"display:none;\">\n",
              "        \n",
              "  <svg xmlns=\"http://www.w3.org/2000/svg\" height=\"24px\"viewBox=\"0 0 24 24\"\n",
              "       width=\"24px\">\n",
              "    <path d=\"M0 0h24v24H0V0z\" fill=\"none\"/>\n",
              "    <path d=\"M18.56 5.44l.94 2.06.94-2.06 2.06-.94-2.06-.94-.94-2.06-.94 2.06-2.06.94zm-11 1L8.5 8.5l.94-2.06 2.06-.94-2.06-.94L8.5 2.5l-.94 2.06-2.06.94zm10 10l.94 2.06.94-2.06 2.06-.94-2.06-.94-.94-2.06-.94 2.06-2.06.94z\"/><path d=\"M17.41 7.96l-1.37-1.37c-.4-.4-.92-.59-1.43-.59-.52 0-1.04.2-1.43.59L10.3 9.45l-7.72 7.72c-.78.78-.78 2.05 0 2.83L4 21.41c.39.39.9.59 1.41.59.51 0 1.02-.2 1.41-.59l7.78-7.78 2.81-2.81c.8-.78.8-2.07 0-2.86zM5.41 20L4 18.59l7.72-7.72 1.47 1.35L5.41 20z\"/>\n",
              "  </svg>\n",
              "      </button>\n",
              "      \n",
              "  <style>\n",
              "    .colab-df-container {\n",
              "      display:flex;\n",
              "      flex-wrap:wrap;\n",
              "      gap: 12px;\n",
              "    }\n",
              "\n",
              "    .colab-df-convert {\n",
              "      background-color: #E8F0FE;\n",
              "      border: none;\n",
              "      border-radius: 50%;\n",
              "      cursor: pointer;\n",
              "      display: none;\n",
              "      fill: #1967D2;\n",
              "      height: 32px;\n",
              "      padding: 0 0 0 0;\n",
              "      width: 32px;\n",
              "    }\n",
              "\n",
              "    .colab-df-convert:hover {\n",
              "      background-color: #E2EBFA;\n",
              "      box-shadow: 0px 1px 2px rgba(60, 64, 67, 0.3), 0px 1px 3px 1px rgba(60, 64, 67, 0.15);\n",
              "      fill: #174EA6;\n",
              "    }\n",
              "\n",
              "    [theme=dark] .colab-df-convert {\n",
              "      background-color: #3B4455;\n",
              "      fill: #D2E3FC;\n",
              "    }\n",
              "\n",
              "    [theme=dark] .colab-df-convert:hover {\n",
              "      background-color: #434B5C;\n",
              "      box-shadow: 0px 1px 3px 1px rgba(0, 0, 0, 0.15);\n",
              "      filter: drop-shadow(0px 1px 2px rgba(0, 0, 0, 0.3));\n",
              "      fill: #FFFFFF;\n",
              "    }\n",
              "  </style>\n",
              "\n",
              "      <script>\n",
              "        const buttonEl =\n",
              "          document.querySelector('#df-840a637a-d469-4a03-86ff-a6f07182fc03 button.colab-df-convert');\n",
              "        buttonEl.style.display =\n",
              "          google.colab.kernel.accessAllowed ? 'block' : 'none';\n",
              "\n",
              "        async function convertToInteractive(key) {\n",
              "          const element = document.querySelector('#df-840a637a-d469-4a03-86ff-a6f07182fc03');\n",
              "          const dataTable =\n",
              "            await google.colab.kernel.invokeFunction('convertToInteractive',\n",
              "                                                     [key], {});\n",
              "          if (!dataTable) return;\n",
              "\n",
              "          const docLinkHtml = 'Like what you see? Visit the ' +\n",
              "            '<a target=\"_blank\" href=https://colab.research.google.com/notebooks/data_table.ipynb>data table notebook</a>'\n",
              "            + ' to learn more about interactive tables.';\n",
              "          element.innerHTML = '';\n",
              "          dataTable['output_type'] = 'display_data';\n",
              "          await google.colab.output.renderOutput(dataTable, element);\n",
              "          const docLink = document.createElement('div');\n",
              "          docLink.innerHTML = docLinkHtml;\n",
              "          element.appendChild(docLink);\n",
              "        }\n",
              "      </script>\n",
              "    </div>\n",
              "  </div>\n",
              "  "
            ]
          },
          "metadata": {},
          "execution_count": 71
        }
      ]
    },
    {
      "cell_type": "code",
      "source": [
        "#Generar excel de los datos.\n",
        "df.to_csv('Servicio.csv')"
      ],
      "metadata": {
        "id": "6inDU9QjX2eq"
      },
      "execution_count": null,
      "outputs": []
    }
  ]
}