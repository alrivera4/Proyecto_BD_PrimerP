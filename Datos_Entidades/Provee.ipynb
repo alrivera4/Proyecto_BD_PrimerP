{
  "nbformat": 4,
  "nbformat_minor": 0,
  "metadata": {
    "colab": {
      "provenance": []
    },
    "kernelspec": {
      "name": "python3",
      "display_name": "Python 3"
    },
    "language_info": {
      "name": "python"
    }
  },
  "cells": [
    {
      "cell_type": "markdown",
      "source": [
        "**Proyecto Final: Unidad 1**"
      ],
      "metadata": {
        "id": "KP7ZIEWr9lbS"
      }
    },
    {
      "cell_type": "markdown",
      "source": [
        "**Entidad: Provee**\n",
        "\n",
        "(Esta acción se convirtió en una entidad porque hay relación de n a n)"
      ],
      "metadata": {
        "id": "hD_Vu7Tr9okR"
      }
    },
    {
      "cell_type": "code",
      "execution_count": 1,
      "metadata": {
        "colab": {
          "base_uri": "https://localhost:8080/"
        },
        "id": "YSIYB4Wl9g-j",
        "outputId": "6ba093e6-36a8-43ac-fea1-630c0e8984eb"
      },
      "outputs": [
        {
          "output_type": "stream",
          "name": "stdout",
          "text": [
            "Looking in indexes: https://pypi.org/simple, https://us-python.pkg.dev/colab-wheels/public/simple/\n",
            "Collecting Faker\n",
            "  Downloading Faker-15.3.4-py3-none-any.whl (1.6 MB)\n",
            "\u001b[K     |████████████████████████████████| 1.6 MB 8.2 MB/s \n",
            "\u001b[?25hRequirement already satisfied: python-dateutil>=2.4 in /usr/local/lib/python3.8/dist-packages (from Faker) (2.8.2)\n",
            "Requirement already satisfied: six>=1.5 in /usr/local/lib/python3.8/dist-packages (from python-dateutil>=2.4->Faker) (1.15.0)\n",
            "Installing collected packages: Faker\n",
            "Successfully installed Faker-15.3.4\n"
          ]
        }
      ],
      "source": [
        "#Faker es un paquete de Python que genera datos falsos.\n",
        "!pip install Faker"
      ]
    },
    {
      "cell_type": "code",
      "source": [
        "#Librerías necesarias para la generación de datos.\n",
        "import pandas as pd\n",
        "import uuid\n",
        "import random\n",
        "from faker import Faker\n",
        "import datetime\n",
        "\n",
        "#Librerías para generar fechas\n",
        "from random import randint\n",
        "from datetime import datetime"
      ],
      "metadata": {
        "id": "_MECzccs9_7B"
      },
      "execution_count": 2,
      "outputs": []
    },
    {
      "cell_type": "code",
      "source": [
        "#Variable asignada para el tamaño del conjunto de datos. \n",
        "num_iess = 10000"
      ],
      "metadata": {
        "id": "P9F_6CoJ-Aqh"
      },
      "execution_count": 3,
      "outputs": []
    },
    {
      "cell_type": "code",
      "source": [
        "#Lista de 2 características (Atributos)\n",
        "features = [\n",
        "    \"ci_persona\",\n",
        "    \"id_empresa\",\n",
        "]# Creando un DF para estas características\n",
        "df = pd.DataFrame(columns=features)"
      ],
      "metadata": {
        "id": "9JONcnbI-E-g"
      },
      "execution_count": 4,
      "outputs": []
    },
    {
      "cell_type": "markdown",
      "source": [
        "**ci_persona**"
      ],
      "metadata": {
        "id": "HE2jc0_s-M0x"
      }
    },
    {
      "cell_type": "code",
      "source": [
        "#Variable para los géneros para la creación de los nombres.\n",
        "genero = [\"female\", \"male\"]"
      ],
      "metadata": {
        "id": "HUOulBaR-j6B"
      },
      "execution_count": 5,
      "outputs": []
    },
    {
      "cell_type": "code",
      "source": [
        "#Nombres.\n",
        "df['genero']= random.choices(\n",
        "    genero, \n",
        "    weights=(30,30), \n",
        "    k=num_iess)"
      ],
      "metadata": {
        "id": "vd9tN9CM-loo"
      },
      "execution_count": 6,
      "outputs": []
    },
    {
      "cell_type": "code",
      "source": [
        "#Instancia Faker\n",
        "faker = Faker()\n",
        "#Función.\n",
        "def name_gen(genero):\n",
        "    #Para masculino\n",
        "    if genero=='male':\n",
        "        return faker.name_male()\n",
        "    #Para femenino\n",
        "    elif genero=='female':\n",
        "        return faker.name_female()\n",
        "    #Genera los nombres\n",
        "    return faker.name()\n",
        "df['ci_persona'] = [name_gen(i) for i in df['genero']]"
      ],
      "metadata": {
        "id": "-B6DPKyr-b2R"
      },
      "execution_count": 7,
      "outputs": []
    },
    {
      "cell_type": "code",
      "source": [
        "cedula=[]\n",
        "#Cantidad de números para la cadena..\n",
        "size = 10\n",
        "for i in range(0, num_iess):\n",
        "  random.seed(datetime.now())\n",
        "  #Números opcionales para formar la cadena.\n",
        "  valores = [0,1,2,3,4,5,6,7,8,9]\n",
        "  cedula=(''.join([str(random.choice(valores)) for i in range(size)]))\n",
        "  #Se guarda los números en telefonocallcenter.\n",
        "  df.ci_persona[i]=cedula"
      ],
      "metadata": {
        "id": "BwDZTnz3-So4"
      },
      "execution_count": 8,
      "outputs": []
    },
    {
      "cell_type": "markdown",
      "source": [
        "**id_empresa**"
      ],
      "metadata": {
        "id": "JYwRxjWE-8T5"
      }
    },
    {
      "cell_type": "code",
      "source": [
        "#Biblioteca uuid para generar cadena aleatoria de datos para id_perfil.\n",
        "df['id_empresa'] = [uuid.uuid4().hex for i in range(num_iess)]"
      ],
      "metadata": {
        "id": "NKkqrvvV_BFB"
      },
      "execution_count": 9,
      "outputs": []
    },
    {
      "cell_type": "code",
      "source": [
        "#Genera identificaciones únicas para cada usuario. Si todas las ID en el conjunto de datos son únicas, devuelve True.\n",
        "print(df['id_empresa'].nunique()==num_iess)"
      ],
      "metadata": {
        "colab": {
          "base_uri": "https://localhost:8080/"
        },
        "id": "t0WFBxxH_C6I",
        "outputId": "86407d5f-d969-4054-c5fd-29e038d98049"
      },
      "execution_count": 10,
      "outputs": [
        {
          "output_type": "stream",
          "name": "stdout",
          "text": [
            "True\n"
          ]
        }
      ]
    },
    {
      "cell_type": "code",
      "source": [
        "#Eliminar genero, no es necesaerio para esta entidad.\n",
        "del(df['genero'])"
      ],
      "metadata": {
        "id": "3WQweGML_H4Z"
      },
      "execution_count": 11,
      "outputs": []
    },
    {
      "cell_type": "code",
      "source": [
        "#Visualizar en la tabla los datos generados antes de descargar el excel.\n",
        "df.head(5)"
      ],
      "metadata": {
        "colab": {
          "base_uri": "https://localhost:8080/",
          "height": 206
        },
        "id": "_n-SoTw_-zzQ",
        "outputId": "bbbce593-da9c-4883-f7e1-d6de8f6b6619"
      },
      "execution_count": 12,
      "outputs": [
        {
          "output_type": "execute_result",
          "data": {
            "text/plain": [
              "   ci_persona                        id_empresa\n",
              "0  1964317883  1c37367b783a42b6bf8171b104b6e953\n",
              "1  7410900717  ab496d56069642509fd14f46d9304c8d\n",
              "2  8479156150  046f7a247e214bd6b6b28852830c9524\n",
              "3  6247273633  ac2b446605d141d79ffa5c4b4801730c\n",
              "4  8573225466  f2cbb97e13794c658566da1dd228d99f"
            ],
            "text/html": [
              "\n",
              "  <div id=\"df-feb78909-1830-4ede-bae8-472b23a1d168\">\n",
              "    <div class=\"colab-df-container\">\n",
              "      <div>\n",
              "<style scoped>\n",
              "    .dataframe tbody tr th:only-of-type {\n",
              "        vertical-align: middle;\n",
              "    }\n",
              "\n",
              "    .dataframe tbody tr th {\n",
              "        vertical-align: top;\n",
              "    }\n",
              "\n",
              "    .dataframe thead th {\n",
              "        text-align: right;\n",
              "    }\n",
              "</style>\n",
              "<table border=\"1\" class=\"dataframe\">\n",
              "  <thead>\n",
              "    <tr style=\"text-align: right;\">\n",
              "      <th></th>\n",
              "      <th>ci_persona</th>\n",
              "      <th>id_empresa</th>\n",
              "    </tr>\n",
              "  </thead>\n",
              "  <tbody>\n",
              "    <tr>\n",
              "      <th>0</th>\n",
              "      <td>1964317883</td>\n",
              "      <td>1c37367b783a42b6bf8171b104b6e953</td>\n",
              "    </tr>\n",
              "    <tr>\n",
              "      <th>1</th>\n",
              "      <td>7410900717</td>\n",
              "      <td>ab496d56069642509fd14f46d9304c8d</td>\n",
              "    </tr>\n",
              "    <tr>\n",
              "      <th>2</th>\n",
              "      <td>8479156150</td>\n",
              "      <td>046f7a247e214bd6b6b28852830c9524</td>\n",
              "    </tr>\n",
              "    <tr>\n",
              "      <th>3</th>\n",
              "      <td>6247273633</td>\n",
              "      <td>ac2b446605d141d79ffa5c4b4801730c</td>\n",
              "    </tr>\n",
              "    <tr>\n",
              "      <th>4</th>\n",
              "      <td>8573225466</td>\n",
              "      <td>f2cbb97e13794c658566da1dd228d99f</td>\n",
              "    </tr>\n",
              "  </tbody>\n",
              "</table>\n",
              "</div>\n",
              "      <button class=\"colab-df-convert\" onclick=\"convertToInteractive('df-feb78909-1830-4ede-bae8-472b23a1d168')\"\n",
              "              title=\"Convert this dataframe to an interactive table.\"\n",
              "              style=\"display:none;\">\n",
              "        \n",
              "  <svg xmlns=\"http://www.w3.org/2000/svg\" height=\"24px\"viewBox=\"0 0 24 24\"\n",
              "       width=\"24px\">\n",
              "    <path d=\"M0 0h24v24H0V0z\" fill=\"none\"/>\n",
              "    <path d=\"M18.56 5.44l.94 2.06.94-2.06 2.06-.94-2.06-.94-.94-2.06-.94 2.06-2.06.94zm-11 1L8.5 8.5l.94-2.06 2.06-.94-2.06-.94L8.5 2.5l-.94 2.06-2.06.94zm10 10l.94 2.06.94-2.06 2.06-.94-2.06-.94-.94-2.06-.94 2.06-2.06.94z\"/><path d=\"M17.41 7.96l-1.37-1.37c-.4-.4-.92-.59-1.43-.59-.52 0-1.04.2-1.43.59L10.3 9.45l-7.72 7.72c-.78.78-.78 2.05 0 2.83L4 21.41c.39.39.9.59 1.41.59.51 0 1.02-.2 1.41-.59l7.78-7.78 2.81-2.81c.8-.78.8-2.07 0-2.86zM5.41 20L4 18.59l7.72-7.72 1.47 1.35L5.41 20z\"/>\n",
              "  </svg>\n",
              "      </button>\n",
              "      \n",
              "  <style>\n",
              "    .colab-df-container {\n",
              "      display:flex;\n",
              "      flex-wrap:wrap;\n",
              "      gap: 12px;\n",
              "    }\n",
              "\n",
              "    .colab-df-convert {\n",
              "      background-color: #E8F0FE;\n",
              "      border: none;\n",
              "      border-radius: 50%;\n",
              "      cursor: pointer;\n",
              "      display: none;\n",
              "      fill: #1967D2;\n",
              "      height: 32px;\n",
              "      padding: 0 0 0 0;\n",
              "      width: 32px;\n",
              "    }\n",
              "\n",
              "    .colab-df-convert:hover {\n",
              "      background-color: #E2EBFA;\n",
              "      box-shadow: 0px 1px 2px rgba(60, 64, 67, 0.3), 0px 1px 3px 1px rgba(60, 64, 67, 0.15);\n",
              "      fill: #174EA6;\n",
              "    }\n",
              "\n",
              "    [theme=dark] .colab-df-convert {\n",
              "      background-color: #3B4455;\n",
              "      fill: #D2E3FC;\n",
              "    }\n",
              "\n",
              "    [theme=dark] .colab-df-convert:hover {\n",
              "      background-color: #434B5C;\n",
              "      box-shadow: 0px 1px 3px 1px rgba(0, 0, 0, 0.15);\n",
              "      filter: drop-shadow(0px 1px 2px rgba(0, 0, 0, 0.3));\n",
              "      fill: #FFFFFF;\n",
              "    }\n",
              "  </style>\n",
              "\n",
              "      <script>\n",
              "        const buttonEl =\n",
              "          document.querySelector('#df-feb78909-1830-4ede-bae8-472b23a1d168 button.colab-df-convert');\n",
              "        buttonEl.style.display =\n",
              "          google.colab.kernel.accessAllowed ? 'block' : 'none';\n",
              "\n",
              "        async function convertToInteractive(key) {\n",
              "          const element = document.querySelector('#df-feb78909-1830-4ede-bae8-472b23a1d168');\n",
              "          const dataTable =\n",
              "            await google.colab.kernel.invokeFunction('convertToInteractive',\n",
              "                                                     [key], {});\n",
              "          if (!dataTable) return;\n",
              "\n",
              "          const docLinkHtml = 'Like what you see? Visit the ' +\n",
              "            '<a target=\"_blank\" href=https://colab.research.google.com/notebooks/data_table.ipynb>data table notebook</a>'\n",
              "            + ' to learn more about interactive tables.';\n",
              "          element.innerHTML = '';\n",
              "          dataTable['output_type'] = 'display_data';\n",
              "          await google.colab.output.renderOutput(dataTable, element);\n",
              "          const docLink = document.createElement('div');\n",
              "          docLink.innerHTML = docLinkHtml;\n",
              "          element.appendChild(docLink);\n",
              "        }\n",
              "      </script>\n",
              "    </div>\n",
              "  </div>\n",
              "  "
            ]
          },
          "metadata": {},
          "execution_count": 12
        }
      ]
    },
    {
      "cell_type": "code",
      "source": [
        "#Generar excel de los datos.\n",
        "df.to_csv('provee.csv')"
      ],
      "metadata": {
        "id": "xj-5P0qx_MIB"
      },
      "execution_count": 13,
      "outputs": []
    }
  ]
}