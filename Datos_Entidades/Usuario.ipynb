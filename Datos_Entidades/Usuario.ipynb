{
  "nbformat": 4,
  "nbformat_minor": 0,
  "metadata": {
    "colab": {
      "provenance": []
    },
    "kernelspec": {
      "name": "python3",
      "display_name": "Python 3"
    },
    "language_info": {
      "name": "python"
    }
  },
  "cells": [
    {
      "cell_type": "markdown",
      "source": [
        "**Proyecto Final: Unidad 1**"
      ],
      "metadata": {
        "id": "flromwZ4UQku"
      }
    },
    {
      "cell_type": "markdown",
      "source": [
        "**Entidad: usuario**"
      ],
      "metadata": {
        "id": "gu_KKkvP78Ol"
      }
    },
    {
      "cell_type": "code",
      "execution_count": 1,
      "metadata": {
        "colab": {
          "base_uri": "https://localhost:8080/"
        },
        "id": "wXRKZYOc74Si",
        "outputId": "a52bfe7b-9832-4b87-d6fb-a745292f9774"
      },
      "outputs": [
        {
          "output_type": "stream",
          "name": "stdout",
          "text": [
            "Looking in indexes: https://pypi.org/simple, https://us-python.pkg.dev/colab-wheels/public/simple/\n",
            "Collecting Faker\n",
            "  Downloading Faker-15.3.4-py3-none-any.whl (1.6 MB)\n",
            "\u001b[K     |████████████████████████████████| 1.6 MB 17.2 MB/s \n",
            "\u001b[?25hRequirement already satisfied: python-dateutil>=2.4 in /usr/local/lib/python3.8/dist-packages (from Faker) (2.8.2)\n",
            "Requirement already satisfied: six>=1.5 in /usr/local/lib/python3.8/dist-packages (from python-dateutil>=2.4->Faker) (1.15.0)\n",
            "Installing collected packages: Faker\n",
            "Successfully installed Faker-15.3.4\n"
          ]
        }
      ],
      "source": [
        "#Faker es un paquete de Python que genera datos falsos.\n",
        "!pip install Faker"
      ]
    },
    {
      "cell_type": "code",
      "source": [
        "#Librerías necesarias para la generación de datos.\n",
        "import pandas as pd\n",
        "import uuid\n",
        "import random\n",
        "from faker import Faker\n",
        "import datetime\n",
        "\n",
        "#Librerías para generar cadena de numeros\n",
        "import random as r\n",
        "from random import seed\n",
        "from datetime import datetime"
      ],
      "metadata": {
        "id": "GJK4gE6m8Jgb"
      },
      "execution_count": 2,
      "outputs": []
    },
    {
      "cell_type": "code",
      "source": [
        "#Variable asignada para el tamaño del conjunto de datos. \n",
        "num_iess = 10000"
      ],
      "metadata": {
        "id": "bD8ulyiW8Ln7"
      },
      "execution_count": 3,
      "outputs": []
    },
    {
      "cell_type": "code",
      "source": [
        "#Lista de 4 características (Atributos)\n",
        "features = [\n",
        "    \"id_usuario\",\n",
        "     #Genero no es un atributo.\n",
        "    \"genero\",\n",
        "    \"nombre_usuario\",\n",
        "    \"contrasenia_usuario\",\n",
        "    \"ci_persona\",\n",
        "]# Creando un DF para estas características\n",
        "df = pd.DataFrame(columns=features)"
      ],
      "metadata": {
        "id": "s9g2bocw8OeK"
      },
      "execution_count": 4,
      "outputs": []
    },
    {
      "cell_type": "markdown",
      "source": [
        "**id_usuario**"
      ],
      "metadata": {
        "id": "Myb3OKsB8enk"
      }
    },
    {
      "cell_type": "code",
      "source": [
        "#Biblioteca uuid para generar cadena aleatoria de datos para id_perfil.\n",
        "df['id_usuario'] = [uuid.uuid4().hex for i in range(num_iess)]"
      ],
      "metadata": {
        "id": "z_hHKsKU8hfj"
      },
      "execution_count": 5,
      "outputs": []
    },
    {
      "cell_type": "code",
      "source": [
        "#Genera identificaciones únicas para cada usuario. Si todas las ID en el conjunto de datos son únicas, devuelve True.\n",
        "print(df['id_usuario'].nunique()==num_iess)"
      ],
      "metadata": {
        "colab": {
          "base_uri": "https://localhost:8080/"
        },
        "id": "PKqUBK058nVs",
        "outputId": "6f8e7b7d-ca72-45a6-a472-73d9ad372a72"
      },
      "execution_count": 6,
      "outputs": [
        {
          "output_type": "stream",
          "name": "stdout",
          "text": [
            "True\n"
          ]
        }
      ]
    },
    {
      "cell_type": "markdown",
      "source": [
        "**nombre_usuario**"
      ],
      "metadata": {
        "id": "ZFRQ9Hsj8s-7"
      }
    },
    {
      "cell_type": "code",
      "source": [
        "#Variable para los géneros para la creación de los nombres.\n",
        "genero = [\"female\", \"male\"]"
      ],
      "metadata": {
        "id": "X_8ZbaaF8x_b"
      },
      "execution_count": 7,
      "outputs": []
    },
    {
      "cell_type": "code",
      "source": [
        "#Nombres.\n",
        "df['genero']= random.choices(\n",
        "    genero, \n",
        "    weights=(30,30), \n",
        "    k=num_iess)"
      ],
      "metadata": {
        "id": "UoDVmoN29Qcr"
      },
      "execution_count": 8,
      "outputs": []
    },
    {
      "cell_type": "code",
      "source": [
        "#Instancia Faker\n",
        "faker = Faker()\n",
        "#Función.\n",
        "def name_gen(genero):\n",
        "    #Para masculino\n",
        "    if genero=='male':\n",
        "        return faker.name_male()\n",
        "    #Para femenino\n",
        "    elif genero=='female':\n",
        "        return faker.name_female()\n",
        "    #Genera los nombres\n",
        "    return faker.name()\n",
        "df['nombre_usuario'] = [name_gen(i) for i in df['genero']]"
      ],
      "metadata": {
        "id": "nl5ZEvDY9T7T"
      },
      "execution_count": 9,
      "outputs": []
    },
    {
      "cell_type": "markdown",
      "source": [
        "**contrasenia_usuario**"
      ],
      "metadata": {
        "id": "U3yyVuEq9mIT"
      }
    },
    {
      "cell_type": "code",
      "source": [
        "#Uso de la biblioteca uuid para generar cadena aleatoria de datos para la clave o contraseña.\n",
        "df['contrasenia_usuario'] = [uuid.uuid4().hex for i in range(num_iess)]"
      ],
      "metadata": {
        "id": "R8Mk07T39o-S"
      },
      "execution_count": 10,
      "outputs": []
    },
    {
      "cell_type": "code",
      "source": [
        "#Genera identificaciones únicas para cada usuario. Si todas las claves en el conjunto de datos son únicas, devuelve True.\n",
        "print(df['contrasenia_usuario'].nunique()==num_iess)"
      ],
      "metadata": {
        "colab": {
          "base_uri": "https://localhost:8080/"
        },
        "id": "3finGWam98TL",
        "outputId": "b3a5f9cd-219c-4e37-bebc-ccc8358cac36"
      },
      "execution_count": 11,
      "outputs": [
        {
          "output_type": "stream",
          "name": "stdout",
          "text": [
            "True\n"
          ]
        }
      ]
    },
    {
      "cell_type": "markdown",
      "source": [
        "**ci_persona**"
      ],
      "metadata": {
        "id": "nStlKqOO-LK6"
      }
    },
    {
      "cell_type": "code",
      "source": [
        "cedula=[]\n",
        "#Cantidad de números para la cadena..\n",
        "size = 10\n",
        "for i in range(0, num_iess):\n",
        "  random.seed(datetime.now())\n",
        "  #Números opcionales para formar la cadena.\n",
        "  valores = [0,1,2,3,4,5,6,7,8,9]\n",
        "  cedula=(''.join([str(random.choice(valores)) for i in range(size)]))\n",
        "  #Se guarda los números en telefonocallcenter.\n",
        "  df.ci_persona[i]=cedula"
      ],
      "metadata": {
        "id": "zDbN-Ljk-Ovj"
      },
      "execution_count": 12,
      "outputs": []
    },
    {
      "cell_type": "code",
      "source": [
        "#Eliminar genero, no es necesaerio para esta entidad.\n",
        "del(df['genero'])"
      ],
      "metadata": {
        "id": "RVWLdXZ2WVfU"
      },
      "execution_count": 13,
      "outputs": []
    },
    {
      "cell_type": "code",
      "source": [
        "#Visualizar en la tabla los datos generados antes de descargar el excel.\n",
        "df.head(5)"
      ],
      "metadata": {
        "colab": {
          "base_uri": "https://localhost:8080/",
          "height": 206
        },
        "id": "P1Bt5xYC8p1r",
        "outputId": "33336c5c-6637-4eb1-a079-037bf5bd5f0b"
      },
      "execution_count": 14,
      "outputs": [
        {
          "output_type": "execute_result",
          "data": {
            "text/plain": [
              "                         id_usuario    nombre_usuario  \\\n",
              "0  ec7edd859a9b413e908d3dd21ad014df     Marc Robinson   \n",
              "1  afa6f1893bc240809287e5f720a3f77b      Sarah Fuller   \n",
              "2  e8923ad3899b410396c3d56004ff00f7       Seth Wilson   \n",
              "3  bd3e15d7735244b49a1e2b794dc792a2  David Richardson   \n",
              "4  d31ccdd7d5f647f987ecbc22b943c69a       Kevin Blake   \n",
              "\n",
              "                contrasenia_usuario  ci_persona  \n",
              "0  951ca972955e4443b940e2722e319580  2984391972  \n",
              "1  c7aaa47770cc45a392b1476b9c185798  5865981855  \n",
              "2  d409456f17534b71bf96231b1c9c06e4  5963922594  \n",
              "3  134ac30e9baf4c06af58295b5567cd91  4986285765  \n",
              "4  322695c6b425439c9191a14bb648f0a2  5222597567  "
            ],
            "text/html": [
              "\n",
              "  <div id=\"df-42207271-8343-4b9e-b1a3-1176ceee6b6a\">\n",
              "    <div class=\"colab-df-container\">\n",
              "      <div>\n",
              "<style scoped>\n",
              "    .dataframe tbody tr th:only-of-type {\n",
              "        vertical-align: middle;\n",
              "    }\n",
              "\n",
              "    .dataframe tbody tr th {\n",
              "        vertical-align: top;\n",
              "    }\n",
              "\n",
              "    .dataframe thead th {\n",
              "        text-align: right;\n",
              "    }\n",
              "</style>\n",
              "<table border=\"1\" class=\"dataframe\">\n",
              "  <thead>\n",
              "    <tr style=\"text-align: right;\">\n",
              "      <th></th>\n",
              "      <th>id_usuario</th>\n",
              "      <th>nombre_usuario</th>\n",
              "      <th>contrasenia_usuario</th>\n",
              "      <th>ci_persona</th>\n",
              "    </tr>\n",
              "  </thead>\n",
              "  <tbody>\n",
              "    <tr>\n",
              "      <th>0</th>\n",
              "      <td>ec7edd859a9b413e908d3dd21ad014df</td>\n",
              "      <td>Marc Robinson</td>\n",
              "      <td>951ca972955e4443b940e2722e319580</td>\n",
              "      <td>2984391972</td>\n",
              "    </tr>\n",
              "    <tr>\n",
              "      <th>1</th>\n",
              "      <td>afa6f1893bc240809287e5f720a3f77b</td>\n",
              "      <td>Sarah Fuller</td>\n",
              "      <td>c7aaa47770cc45a392b1476b9c185798</td>\n",
              "      <td>5865981855</td>\n",
              "    </tr>\n",
              "    <tr>\n",
              "      <th>2</th>\n",
              "      <td>e8923ad3899b410396c3d56004ff00f7</td>\n",
              "      <td>Seth Wilson</td>\n",
              "      <td>d409456f17534b71bf96231b1c9c06e4</td>\n",
              "      <td>5963922594</td>\n",
              "    </tr>\n",
              "    <tr>\n",
              "      <th>3</th>\n",
              "      <td>bd3e15d7735244b49a1e2b794dc792a2</td>\n",
              "      <td>David Richardson</td>\n",
              "      <td>134ac30e9baf4c06af58295b5567cd91</td>\n",
              "      <td>4986285765</td>\n",
              "    </tr>\n",
              "    <tr>\n",
              "      <th>4</th>\n",
              "      <td>d31ccdd7d5f647f987ecbc22b943c69a</td>\n",
              "      <td>Kevin Blake</td>\n",
              "      <td>322695c6b425439c9191a14bb648f0a2</td>\n",
              "      <td>5222597567</td>\n",
              "    </tr>\n",
              "  </tbody>\n",
              "</table>\n",
              "</div>\n",
              "      <button class=\"colab-df-convert\" onclick=\"convertToInteractive('df-42207271-8343-4b9e-b1a3-1176ceee6b6a')\"\n",
              "              title=\"Convert this dataframe to an interactive table.\"\n",
              "              style=\"display:none;\">\n",
              "        \n",
              "  <svg xmlns=\"http://www.w3.org/2000/svg\" height=\"24px\"viewBox=\"0 0 24 24\"\n",
              "       width=\"24px\">\n",
              "    <path d=\"M0 0h24v24H0V0z\" fill=\"none\"/>\n",
              "    <path d=\"M18.56 5.44l.94 2.06.94-2.06 2.06-.94-2.06-.94-.94-2.06-.94 2.06-2.06.94zm-11 1L8.5 8.5l.94-2.06 2.06-.94-2.06-.94L8.5 2.5l-.94 2.06-2.06.94zm10 10l.94 2.06.94-2.06 2.06-.94-2.06-.94-.94-2.06-.94 2.06-2.06.94z\"/><path d=\"M17.41 7.96l-1.37-1.37c-.4-.4-.92-.59-1.43-.59-.52 0-1.04.2-1.43.59L10.3 9.45l-7.72 7.72c-.78.78-.78 2.05 0 2.83L4 21.41c.39.39.9.59 1.41.59.51 0 1.02-.2 1.41-.59l7.78-7.78 2.81-2.81c.8-.78.8-2.07 0-2.86zM5.41 20L4 18.59l7.72-7.72 1.47 1.35L5.41 20z\"/>\n",
              "  </svg>\n",
              "      </button>\n",
              "      \n",
              "  <style>\n",
              "    .colab-df-container {\n",
              "      display:flex;\n",
              "      flex-wrap:wrap;\n",
              "      gap: 12px;\n",
              "    }\n",
              "\n",
              "    .colab-df-convert {\n",
              "      background-color: #E8F0FE;\n",
              "      border: none;\n",
              "      border-radius: 50%;\n",
              "      cursor: pointer;\n",
              "      display: none;\n",
              "      fill: #1967D2;\n",
              "      height: 32px;\n",
              "      padding: 0 0 0 0;\n",
              "      width: 32px;\n",
              "    }\n",
              "\n",
              "    .colab-df-convert:hover {\n",
              "      background-color: #E2EBFA;\n",
              "      box-shadow: 0px 1px 2px rgba(60, 64, 67, 0.3), 0px 1px 3px 1px rgba(60, 64, 67, 0.15);\n",
              "      fill: #174EA6;\n",
              "    }\n",
              "\n",
              "    [theme=dark] .colab-df-convert {\n",
              "      background-color: #3B4455;\n",
              "      fill: #D2E3FC;\n",
              "    }\n",
              "\n",
              "    [theme=dark] .colab-df-convert:hover {\n",
              "      background-color: #434B5C;\n",
              "      box-shadow: 0px 1px 3px 1px rgba(0, 0, 0, 0.15);\n",
              "      filter: drop-shadow(0px 1px 2px rgba(0, 0, 0, 0.3));\n",
              "      fill: #FFFFFF;\n",
              "    }\n",
              "  </style>\n",
              "\n",
              "      <script>\n",
              "        const buttonEl =\n",
              "          document.querySelector('#df-42207271-8343-4b9e-b1a3-1176ceee6b6a button.colab-df-convert');\n",
              "        buttonEl.style.display =\n",
              "          google.colab.kernel.accessAllowed ? 'block' : 'none';\n",
              "\n",
              "        async function convertToInteractive(key) {\n",
              "          const element = document.querySelector('#df-42207271-8343-4b9e-b1a3-1176ceee6b6a');\n",
              "          const dataTable =\n",
              "            await google.colab.kernel.invokeFunction('convertToInteractive',\n",
              "                                                     [key], {});\n",
              "          if (!dataTable) return;\n",
              "\n",
              "          const docLinkHtml = 'Like what you see? Visit the ' +\n",
              "            '<a target=\"_blank\" href=https://colab.research.google.com/notebooks/data_table.ipynb>data table notebook</a>'\n",
              "            + ' to learn more about interactive tables.';\n",
              "          element.innerHTML = '';\n",
              "          dataTable['output_type'] = 'display_data';\n",
              "          await google.colab.output.renderOutput(dataTable, element);\n",
              "          const docLink = document.createElement('div');\n",
              "          docLink.innerHTML = docLinkHtml;\n",
              "          element.appendChild(docLink);\n",
              "        }\n",
              "      </script>\n",
              "    </div>\n",
              "  </div>\n",
              "  "
            ]
          },
          "metadata": {},
          "execution_count": 14
        }
      ]
    },
    {
      "cell_type": "code",
      "source": [
        "#Generar excel de los datos.\n",
        "df.to_csv('usuario.csv')"
      ],
      "metadata": {
        "id": "tdAkzdb_WMMt"
      },
      "execution_count": 15,
      "outputs": []
    }
  ]
}