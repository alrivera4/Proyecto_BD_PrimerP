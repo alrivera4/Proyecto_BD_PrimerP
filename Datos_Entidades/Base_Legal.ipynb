{
  "nbformat": 4,
  "nbformat_minor": 0,
  "metadata": {
    "colab": {
      "provenance": []
    },
    "kernelspec": {
      "name": "python3",
      "display_name": "Python 3"
    },
    "language_info": {
      "name": "python"
    }
  },
  "cells": [
    {
      "cell_type": "markdown",
      "source": [
        "**Proyecto Final: Unidad 1**"
      ],
      "metadata": {
        "id": "Ga2zUh2ChTGS"
      }
    },
    {
      "cell_type": "markdown",
      "source": [
        "****Entidad: Base_Legal****"
      ],
      "metadata": {
        "id": "QdCf8TCuhdES"
      }
    },
    {
      "cell_type": "code",
      "source": [
        "#Faker es un paquete de Python que genera datos falsos.\n",
        "!pip install Faker"
      ],
      "metadata": {
        "colab": {
          "base_uri": "https://localhost:8080/"
        },
        "id": "Moc8BcIohVnU",
        "outputId": "9b41b385-42f6-46f5-ffa2-dcaa1a68cf81"
      },
      "execution_count": null,
      "outputs": [
        {
          "output_type": "stream",
          "name": "stdout",
          "text": [
            "Looking in indexes: https://pypi.org/simple, https://us-python.pkg.dev/colab-wheels/public/simple/\n",
            "Requirement already satisfied: Faker in /usr/local/lib/python3.8/dist-packages (15.3.4)\n",
            "Requirement already satisfied: python-dateutil>=2.4 in /usr/local/lib/python3.8/dist-packages (from Faker) (2.8.2)\n",
            "Requirement already satisfied: six>=1.5 in /usr/local/lib/python3.8/dist-packages (from python-dateutil>=2.4->Faker) (1.15.0)\n"
          ]
        }
      ]
    },
    {
      "cell_type": "code",
      "execution_count": null,
      "metadata": {
        "id": "tpvTvM-PgJBY"
      },
      "outputs": [],
      "source": [
        "#Librerías necesarias para la generación de datos.\n",
        "import pandas as pd\n",
        "import uuid\n",
        "import random\n",
        "from faker import Faker\n",
        "import datetime\n",
        "\n",
        "#Librerías para generar cadena de numeros\n",
        "import random as r\n",
        "from random import seed\n",
        "import string\n",
        "\n",
        "#Librerías para generar fechas\n",
        "from random import randint\n",
        "from datetime import datetime"
      ]
    },
    {
      "cell_type": "code",
      "source": [
        "#Variable asignada para el tamaño del conjunto de datos. \n",
        "num_iess = 10000"
      ],
      "metadata": {
        "id": "8FDO4S3uuG_E"
      },
      "execution_count": null,
      "outputs": []
    },
    {
      "cell_type": "code",
      "source": [
        "#Lista de 7 características (Atributos)\n",
        "features = [\n",
        "    \"id_base_legal\",\n",
        "    \"descripcion_base_legal\",\n",
        "    \"decreto_base_legal\",\n",
        "    \"estado_base_legal\",\n",
        "    \"id_afiliacion\",\n",
        "]# Creando un DF para estas características\n",
        "df = pd.DataFrame(columns=features)"
      ],
      "metadata": {
        "id": "ncRQ_BC_uKCU"
      },
      "execution_count": null,
      "outputs": []
    },
    {
      "cell_type": "markdown",
      "source": [
        "**id_base_legal**"
      ],
      "metadata": {
        "id": "Qa_hLs5gmGPr"
      }
    },
    {
      "cell_type": "code",
      "source": [
        "#Biblioteca uuid para generar cadena aleatoria de datos para id_base_legal.\n",
        "df['id_base_legal'] = [uuid.uuid4().hex for i in range(num_iess)]"
      ],
      "metadata": {
        "id": "H5ASZOFeu0Ce"
      },
      "execution_count": null,
      "outputs": []
    },
    {
      "cell_type": "code",
      "source": [
        "#Genera identificaciones únicas para cada base_legal. Si todas las ID en el conjunto de datos son únicas, devuelve True.\n",
        "print(df['id_base_legal'].nunique()==num_iess)"
      ],
      "metadata": {
        "colab": {
          "base_uri": "https://localhost:8080/"
        },
        "id": "fGvYlXFtu4fc",
        "outputId": "d9732c5a-7887-41aa-843d-879be4e2008c"
      },
      "execution_count": null,
      "outputs": [
        {
          "output_type": "stream",
          "name": "stdout",
          "text": [
            "True\n"
          ]
        }
      ]
    },
    {
      "cell_type": "markdown",
      "source": [
        "**descripcion_base_legal**"
      ],
      "metadata": {
        "id": "bAfe2_IKmMwW"
      }
    },
    {
      "cell_type": "code",
      "source": [
        "#Creamos la variale para la descripción de tipo string junto con su longitud de \n",
        "#cadena de caracteres\n",
        "bio=[]\n",
        "length_of_string = 20\n",
        "\n",
        "for i in range(0, num_iess):#Creamos la descripcion de la universidad\n",
        "  random.seed(datetime.now())\n",
        "  #La descripcion contendra todo tipo de caracteres.\n",
        "  bio=(''.join(random.SystemRandom().choice(string.ascii_letters + string.digits) for i in range(length_of_string)))\n",
        "  #Guardamos la descripcion en el atributo DescripcionUn\n",
        "  df.descripcion_base_legal[i] =bio"
      ],
      "metadata": {
        "id": "TgoY5h5Fvcyu"
      },
      "execution_count": null,
      "outputs": []
    },
    {
      "cell_type": "markdown",
      "source": [
        "**decreto_base_legal**"
      ],
      "metadata": {
        "id": "aj5TafngmTGx"
      }
    },
    {
      "cell_type": "code",
      "source": [
        "#Los diferentes nombres de roles.\n",
        "decreto_base_legal = ['Ley Orgánica del Sistema Nacional de Contratación Pública','Ley de Seguridad Social','Norma Creación','Normal de Regulación']\n",
        "#Creacion de los permisos para cada una de las filas\n",
        "df['decreto_base_legal'] = random.choices(\n",
        "  decreto_base_legal, \n",
        "    weights=(30,40,20,5), \n",
        "    k=num_iess\n",
        ")"
      ],
      "metadata": {
        "id": "vYrfhtFewAje"
      },
      "execution_count": null,
      "outputs": []
    },
    {
      "cell_type": "markdown",
      "source": [
        "**estado_base_legal**"
      ],
      "metadata": {
        "id": "iZ04xGaemaYd"
      }
    },
    {
      "cell_type": "code",
      "source": [
        "#Los diferentes nombres de roles.\n",
        "estado_base_legal = ['Activo','Inactivo']\n",
        "#Creacion de los permisos para cada una de las filas\n",
        "df['estado_base_legal'] = random.choices(\n",
        "  estado_base_legal, \n",
        "    weights=(40,10), \n",
        "    k=num_iess\n",
        ")"
      ],
      "metadata": {
        "id": "hTaeOaNcxS4g"
      },
      "execution_count": null,
      "outputs": []
    },
    {
      "cell_type": "markdown",
      "source": [
        "**id_afiliacion**"
      ],
      "metadata": {
        "id": "vvRdY2ILmdCD"
      }
    },
    {
      "cell_type": "code",
      "source": [
        "#Biblioteca uuid para generar cadena aleatoria de datos para id_perfil.\n",
        "df['id_afiliacion'] = [uuid.uuid4().hex for i in range(num_iess)]"
      ],
      "metadata": {
        "id": "AFdTBrxEmX5J"
      },
      "execution_count": null,
      "outputs": []
    },
    {
      "cell_type": "code",
      "source": [
        "#Genera identificaciones únicas para cada usuario. Si todas las ID en el conjunto de datos son únicas, devuelve True.\n",
        "print(df['id_afiliacion'].nunique()==num_iess)"
      ],
      "metadata": {
        "colab": {
          "base_uri": "https://localhost:8080/"
        },
        "id": "OksOjxk7xrnN",
        "outputId": "a4aebf9b-b4e0-4366-e6b3-7e05363b4634"
      },
      "execution_count": null,
      "outputs": [
        {
          "output_type": "stream",
          "name": "stdout",
          "text": [
            "True\n"
          ]
        }
      ]
    },
    {
      "cell_type": "code",
      "source": [
        "#Visualizar en la tabla los datos generados antes de descargar el excel.\n",
        "df.head(5)"
      ],
      "metadata": {
        "colab": {
          "base_uri": "https://localhost:8080/",
          "height": 285
        },
        "id": "HTUJTNEBx35O",
        "outputId": "ba06758b-2bb1-4197-f8c1-3b97971229b2"
      },
      "execution_count": null,
      "outputs": [
        {
          "output_type": "execute_result",
          "data": {
            "text/plain": [
              "                      id_base_legal descripcion_base_legal  \\\n",
              "0  7cc585bb3ec4484da229aaaec4f60ffa   mptyBoArNMPfBpp3xGrr   \n",
              "1  4bb11f591b374e88aca584e528bd48da   qFFWJVE6DXN2FP7L6tkP   \n",
              "2  fea1dbb3e9134cd5b33b7bcb034c5909   FyHZKNMKhTDKgw7CRxOh   \n",
              "3  0e625001f2ac4463a279f4087e9d912d   OilgjtSsmxCKYVgqvCIa   \n",
              "4  3751fa37cdaf4f5b8603f6987592f1ee   pjogyKaE4KrHENDozM7F   \n",
              "\n",
              "                                  decreto_base_legal estado_base_legal  \\\n",
              "0                               Normal de Regulación            Activo   \n",
              "1  Ley Orgánica del Sistema Nacional de Contratac...          Inactivo   \n",
              "2                            Ley de Seguridad Social            Activo   \n",
              "3                                     Norma Creación            Activo   \n",
              "4  Ley Orgánica del Sistema Nacional de Contratac...            Activo   \n",
              "\n",
              "                      id_afiliacion  \n",
              "0  9d119f1f55c6412893c9b4eddc41c3a7  \n",
              "1  2c858086a4c94e3bb0e992e5444e3886  \n",
              "2  46f67816c7ee404b8abc06ba7c082325  \n",
              "3  d71c8095a0e347f5a38a25ed7c173c6b  \n",
              "4  d7e4cb91cf89485895461174d4492f3c  "
            ],
            "text/html": [
              "\n",
              "  <div id=\"df-d6d73d2d-3777-4b99-9b55-393764ac9529\">\n",
              "    <div class=\"colab-df-container\">\n",
              "      <div>\n",
              "<style scoped>\n",
              "    .dataframe tbody tr th:only-of-type {\n",
              "        vertical-align: middle;\n",
              "    }\n",
              "\n",
              "    .dataframe tbody tr th {\n",
              "        vertical-align: top;\n",
              "    }\n",
              "\n",
              "    .dataframe thead th {\n",
              "        text-align: right;\n",
              "    }\n",
              "</style>\n",
              "<table border=\"1\" class=\"dataframe\">\n",
              "  <thead>\n",
              "    <tr style=\"text-align: right;\">\n",
              "      <th></th>\n",
              "      <th>id_base_legal</th>\n",
              "      <th>descripcion_base_legal</th>\n",
              "      <th>decreto_base_legal</th>\n",
              "      <th>estado_base_legal</th>\n",
              "      <th>id_afiliacion</th>\n",
              "    </tr>\n",
              "  </thead>\n",
              "  <tbody>\n",
              "    <tr>\n",
              "      <th>0</th>\n",
              "      <td>7cc585bb3ec4484da229aaaec4f60ffa</td>\n",
              "      <td>mptyBoArNMPfBpp3xGrr</td>\n",
              "      <td>Normal de Regulación</td>\n",
              "      <td>Activo</td>\n",
              "      <td>9d119f1f55c6412893c9b4eddc41c3a7</td>\n",
              "    </tr>\n",
              "    <tr>\n",
              "      <th>1</th>\n",
              "      <td>4bb11f591b374e88aca584e528bd48da</td>\n",
              "      <td>qFFWJVE6DXN2FP7L6tkP</td>\n",
              "      <td>Ley Orgánica del Sistema Nacional de Contratac...</td>\n",
              "      <td>Inactivo</td>\n",
              "      <td>2c858086a4c94e3bb0e992e5444e3886</td>\n",
              "    </tr>\n",
              "    <tr>\n",
              "      <th>2</th>\n",
              "      <td>fea1dbb3e9134cd5b33b7bcb034c5909</td>\n",
              "      <td>FyHZKNMKhTDKgw7CRxOh</td>\n",
              "      <td>Ley de Seguridad Social</td>\n",
              "      <td>Activo</td>\n",
              "      <td>46f67816c7ee404b8abc06ba7c082325</td>\n",
              "    </tr>\n",
              "    <tr>\n",
              "      <th>3</th>\n",
              "      <td>0e625001f2ac4463a279f4087e9d912d</td>\n",
              "      <td>OilgjtSsmxCKYVgqvCIa</td>\n",
              "      <td>Norma Creación</td>\n",
              "      <td>Activo</td>\n",
              "      <td>d71c8095a0e347f5a38a25ed7c173c6b</td>\n",
              "    </tr>\n",
              "    <tr>\n",
              "      <th>4</th>\n",
              "      <td>3751fa37cdaf4f5b8603f6987592f1ee</td>\n",
              "      <td>pjogyKaE4KrHENDozM7F</td>\n",
              "      <td>Ley Orgánica del Sistema Nacional de Contratac...</td>\n",
              "      <td>Activo</td>\n",
              "      <td>d7e4cb91cf89485895461174d4492f3c</td>\n",
              "    </tr>\n",
              "  </tbody>\n",
              "</table>\n",
              "</div>\n",
              "      <button class=\"colab-df-convert\" onclick=\"convertToInteractive('df-d6d73d2d-3777-4b99-9b55-393764ac9529')\"\n",
              "              title=\"Convert this dataframe to an interactive table.\"\n",
              "              style=\"display:none;\">\n",
              "        \n",
              "  <svg xmlns=\"http://www.w3.org/2000/svg\" height=\"24px\"viewBox=\"0 0 24 24\"\n",
              "       width=\"24px\">\n",
              "    <path d=\"M0 0h24v24H0V0z\" fill=\"none\"/>\n",
              "    <path d=\"M18.56 5.44l.94 2.06.94-2.06 2.06-.94-2.06-.94-.94-2.06-.94 2.06-2.06.94zm-11 1L8.5 8.5l.94-2.06 2.06-.94-2.06-.94L8.5 2.5l-.94 2.06-2.06.94zm10 10l.94 2.06.94-2.06 2.06-.94-2.06-.94-.94-2.06-.94 2.06-2.06.94z\"/><path d=\"M17.41 7.96l-1.37-1.37c-.4-.4-.92-.59-1.43-.59-.52 0-1.04.2-1.43.59L10.3 9.45l-7.72 7.72c-.78.78-.78 2.05 0 2.83L4 21.41c.39.39.9.59 1.41.59.51 0 1.02-.2 1.41-.59l7.78-7.78 2.81-2.81c.8-.78.8-2.07 0-2.86zM5.41 20L4 18.59l7.72-7.72 1.47 1.35L5.41 20z\"/>\n",
              "  </svg>\n",
              "      </button>\n",
              "      \n",
              "  <style>\n",
              "    .colab-df-container {\n",
              "      display:flex;\n",
              "      flex-wrap:wrap;\n",
              "      gap: 12px;\n",
              "    }\n",
              "\n",
              "    .colab-df-convert {\n",
              "      background-color: #E8F0FE;\n",
              "      border: none;\n",
              "      border-radius: 50%;\n",
              "      cursor: pointer;\n",
              "      display: none;\n",
              "      fill: #1967D2;\n",
              "      height: 32px;\n",
              "      padding: 0 0 0 0;\n",
              "      width: 32px;\n",
              "    }\n",
              "\n",
              "    .colab-df-convert:hover {\n",
              "      background-color: #E2EBFA;\n",
              "      box-shadow: 0px 1px 2px rgba(60, 64, 67, 0.3), 0px 1px 3px 1px rgba(60, 64, 67, 0.15);\n",
              "      fill: #174EA6;\n",
              "    }\n",
              "\n",
              "    [theme=dark] .colab-df-convert {\n",
              "      background-color: #3B4455;\n",
              "      fill: #D2E3FC;\n",
              "    }\n",
              "\n",
              "    [theme=dark] .colab-df-convert:hover {\n",
              "      background-color: #434B5C;\n",
              "      box-shadow: 0px 1px 3px 1px rgba(0, 0, 0, 0.15);\n",
              "      filter: drop-shadow(0px 1px 2px rgba(0, 0, 0, 0.3));\n",
              "      fill: #FFFFFF;\n",
              "    }\n",
              "  </style>\n",
              "\n",
              "      <script>\n",
              "        const buttonEl =\n",
              "          document.querySelector('#df-d6d73d2d-3777-4b99-9b55-393764ac9529 button.colab-df-convert');\n",
              "        buttonEl.style.display =\n",
              "          google.colab.kernel.accessAllowed ? 'block' : 'none';\n",
              "\n",
              "        async function convertToInteractive(key) {\n",
              "          const element = document.querySelector('#df-d6d73d2d-3777-4b99-9b55-393764ac9529');\n",
              "          const dataTable =\n",
              "            await google.colab.kernel.invokeFunction('convertToInteractive',\n",
              "                                                     [key], {});\n",
              "          if (!dataTable) return;\n",
              "\n",
              "          const docLinkHtml = 'Like what you see? Visit the ' +\n",
              "            '<a target=\"_blank\" href=https://colab.research.google.com/notebooks/data_table.ipynb>data table notebook</a>'\n",
              "            + ' to learn more about interactive tables.';\n",
              "          element.innerHTML = '';\n",
              "          dataTable['output_type'] = 'display_data';\n",
              "          await google.colab.output.renderOutput(dataTable, element);\n",
              "          const docLink = document.createElement('div');\n",
              "          docLink.innerHTML = docLinkHtml;\n",
              "          element.appendChild(docLink);\n",
              "        }\n",
              "      </script>\n",
              "    </div>\n",
              "  </div>\n",
              "  "
            ]
          },
          "metadata": {},
          "execution_count": 19
        }
      ]
    },
    {
      "cell_type": "code",
      "source": [
        "#Generar excel de los datos.\n",
        "df.to_csv('Base_Legal.csv')"
      ],
      "metadata": {
        "id": "EY33ObhYx9ct"
      },
      "execution_count": null,
      "outputs": []
    }
  ]
}