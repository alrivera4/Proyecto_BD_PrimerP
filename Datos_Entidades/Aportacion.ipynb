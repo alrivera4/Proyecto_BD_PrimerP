{
  "nbformat": 4,
  "nbformat_minor": 0,
  "metadata": {
    "colab": {
      "provenance": []
    },
    "kernelspec": {
      "name": "python3",
      "display_name": "Python 3"
    },
    "language_info": {
      "name": "python"
    }
  },
  "cells": [
    {
      "cell_type": "markdown",
      "source": [
        "**Proyecto Final: Unidad 1**"
      ],
      "metadata": {
        "id": "2VKMm1_gXU_Y"
      }
    },
    {
      "cell_type": "markdown",
      "source": [
        "**Entidad: hijo**"
      ],
      "metadata": {
        "id": "bGUEyRPZXWq7"
      }
    },
    {
      "cell_type": "code",
      "execution_count": null,
      "metadata": {
        "colab": {
          "base_uri": "https://localhost:8080/"
        },
        "id": "jm60kgywW9C6",
        "outputId": "8ac9797e-1620-471d-ed21-5f1966966de8"
      },
      "outputs": [
        {
          "output_type": "stream",
          "name": "stdout",
          "text": [
            "Looking in indexes: https://pypi.org/simple, https://us-python.pkg.dev/colab-wheels/public/simple/\n",
            "Requirement already satisfied: Faker in /usr/local/lib/python3.8/dist-packages (15.3.4)\n",
            "Requirement already satisfied: python-dateutil>=2.4 in /usr/local/lib/python3.8/dist-packages (from Faker) (2.8.2)\n",
            "Requirement already satisfied: six>=1.5 in /usr/local/lib/python3.8/dist-packages (from python-dateutil>=2.4->Faker) (1.15.0)\n"
          ]
        }
      ],
      "source": [
        "#Faker es un paquete de Python que genera datos falsos.\n",
        "!pip install Faker"
      ]
    },
    {
      "cell_type": "markdown",
      "source": [
        "DATOS SINTETICOS DE LA ENTIDAD PROVEE"
      ],
      "metadata": {
        "id": "yr_MOu0sYRWu"
      }
    },
    {
      "cell_type": "markdown",
      "source": [
        "Antes de iniciar cualquier codificacion se comenzara cargando las bibliiotecas con las cuales se crearan los datos"
      ],
      "metadata": {
        "id": "b7o-tey3YWgX"
      }
    },
    {
      "cell_type": "code",
      "source": [
        "#Librerías necesarias para lageneracion de datos\n",
        "import pandas as pd\n",
        "import uuid\n",
        "import random\n",
        "from faker import Faker\n",
        "import datetime\n",
        "\n",
        "#Librerías para generar cadena de números\n",
        "import string\n",
        "import random as r\n",
        "from random import seed\n",
        "from datetime import datetime"
      ],
      "metadata": {
        "id": "YYwW-rLAYbt9"
      },
      "execution_count": null,
      "outputs": []
    },
    {
      "cell_type": "code",
      "source": [
        "#Variable asignada para el tamaño del conjunto de datos\n",
        "num_iess = 10000"
      ],
      "metadata": {
        "id": "mwsy9PprYc-C"
      },
      "execution_count": null,
      "outputs": []
    },
    {
      "cell_type": "markdown",
      "source": [
        "     - id_aportacion: una cadena única de caracteres para identificar la aportacion\n",
        "     - fecha_aportacion: formato de cadena de año-mes-día\n",
        "     - no_aportacion: numero aleatorio de la cantidad de aportaciones realizadas por la persona\n",
        "     - detalle_aportacion: descripcion de el fin que tiene la aportacion\n",
        "     - monto_aportacion: cantidad de dinero aportado al IESS\n",
        "     - ci_persona: una cadena de números para identificar a una persona ene ste caso de nacionalidad ecuatoriana\n",
        "\n"
      ],
      "metadata": {
        "id": "ZNLfSIMgYhvw"
      }
    },
    {
      "cell_type": "code",
      "source": [
        "#Lista con los atributos\n",
        "features = [\n",
        "    \"id_aportacion\",\n",
        "    \"fecha_aportacion\",\n",
        "    \"no_aportacion\",\n",
        "    \"detalle_aportacion\",\n",
        "    \"monto_aportacion\",\n",
        "    \"ci_persona\",\n",
        "]#Creamos un dataframe para estos atributos\n",
        "df = pd.DataFrame(columns=features)"
      ],
      "metadata": {
        "id": "Pl9GS-Gjpz9K"
      },
      "execution_count": null,
      "outputs": []
    },
    {
      "cell_type": "markdown",
      "source": [
        "**id_aportacion**"
      ],
      "metadata": {
        "id": "ncLRMXRQwhPM"
      }
    },
    {
      "cell_type": "code",
      "source": [
        "df['id_aportacion'] = [uuid.uuid4().hex for i in range(num_iess)]"
      ],
      "metadata": {
        "id": "BN_aUKHBvqFK"
      },
      "execution_count": null,
      "outputs": []
    },
    {
      "cell_type": "markdown",
      "source": [
        "Se usa la biblioteca uuid para generar una cadena aleatoria asignada a el atributo id_aportacion"
      ],
      "metadata": {
        "id": "5Ef9FpT5v-dR"
      }
    },
    {
      "cell_type": "markdown",
      "source": [
        "UUID es utilizada para generar identificaciones únicas para cada empresa, para asegurarnos que de que los ids de las empresas no se repitan y eso probara con el comando a continuación"
      ],
      "metadata": {
        "id": "Tc1XujKDwEkk"
      }
    },
    {
      "cell_type": "code",
      "source": [
        "print(df['id_aportacion'].nunique()==num_iess)"
      ],
      "metadata": {
        "colab": {
          "base_uri": "https://localhost:8080/"
        },
        "id": "lT8tpzStwD7J",
        "outputId": "84689574-092d-4d32-d8de-9b6bbca81e2a"
      },
      "execution_count": null,
      "outputs": [
        {
          "output_type": "stream",
          "name": "stdout",
          "text": [
            "True\n"
          ]
        }
      ]
    },
    {
      "cell_type": "code",
      "source": [
        "#Variable para los géneros para la creación de los nombres.\n",
        "genero = [\"female\", \"male\"]"
      ],
      "metadata": {
        "id": "8MpKjL5b0QAY"
      },
      "execution_count": null,
      "outputs": []
    },
    {
      "cell_type": "code",
      "source": [
        "#Nombres.\n",
        "df['genero']= random.choices(\n",
        "    genero, \n",
        "    weights=(30,30), \n",
        "    k=num_iess)"
      ],
      "metadata": {
        "id": "YJRxsPJ60ReZ"
      },
      "execution_count": null,
      "outputs": []
    },
    {
      "cell_type": "markdown",
      "source": [
        "**fecha_aportacion**"
      ],
      "metadata": {
        "id": "kLQJ7GYjwwiX"
      }
    },
    {
      "cell_type": "code",
      "source": [
        "def fecha_aportacion(start, end, n):\n",
        "    #Formato de marca de tiempo (año, mes, dia)\n",
        "    frmt = \"%Y-%m-%d\"\n",
        "\n",
        "    #Formateo de los dos períodos de tiempo.\n",
        "    stime = datetime.strptime(start, frmt)\n",
        "    etime = datetime.strptime(end, frmt)\n",
        "    \n",
        "    #Se crea el grupo para tiempos aleatorios.\n",
        "    td = etime - stime\n",
        "    \n",
        "    #Se genera una lista con los tiempos aleatorios.\n",
        "    times = [(random.random() * td + stime).strftime(frmt) for _ in range(n)]\n",
        "    return times\n",
        "df['fecha_aportacion'] = fecha_aportacion(\"2020-01-01\", \"2022-12-02\", num_iess)"
      ],
      "metadata": {
        "id": "d75qzwKqgLqL"
      },
      "execution_count": null,
      "outputs": []
    },
    {
      "cell_type": "markdown",
      "source": [
        "**no_aportacion**"
      ],
      "metadata": {
        "id": "LgRQJKqvxiIT"
      }
    },
    {
      "cell_type": "code",
      "source": [
        "aportacion=[]\n",
        "#Cantidad de números para la cadena..\n",
        "size = 2\n",
        "for i in range(0, num_iess):\n",
        "  random.seed(datetime.now())\n",
        "  #Números opcionales para formar la cadena.\n",
        "  valores = [1,2,3,4,5,6,7,8,9,0]\n",
        "  aportacion=(''.join([str(random.choice(valores)) for i in range(size)]))\n",
        "  #Se guarda los números en telefonocallcenter.\n",
        "  df.no_aportacion[i]=aportacion"
      ],
      "metadata": {
        "id": "ebcZDoZYxl4L"
      },
      "execution_count": null,
      "outputs": []
    },
    {
      "cell_type": "markdown",
      "source": [
        "**monto_aportacion**"
      ],
      "metadata": {
        "id": "BMX7GoUr5uJj"
      }
    },
    {
      "cell_type": "code",
      "source": [
        "aportacion=[]\n",
        "#Cantidad de números para la cadena..\n",
        "size = 3\n",
        "for i in range(0, num_iess):\n",
        "  random.seed(datetime.now())\n",
        "  #Números opcionales para formar la cadena.\n",
        "  valores = [1,2,3,4,5,6,7,8,9,0]\n",
        "  aportacion=(''.join([str(random.choice(valores)) for i in range(size)]))\n",
        "  #Se guarda los números en telefonocallcenter.\n",
        "  df.monto_aportacion[i]=aportacion"
      ],
      "metadata": {
        "id": "5aErioSW0Zz8"
      },
      "execution_count": null,
      "outputs": []
    },
    {
      "cell_type": "markdown",
      "source": [
        "**detalle_aportacion**"
      ],
      "metadata": {
        "id": "R-38qsHR0bwt"
      }
    },
    {
      "cell_type": "code",
      "source": [
        "#Variale tipo string junto con su longitud de cadena de caracteres.\n",
        "bio=[]\n",
        "length_of_string = 25\n",
        "#Crea el detalle del rol.\n",
        "for i in range(0, num_iess):\n",
        "  random.seed(datetime.now())\n",
        "  #La descripcion tiene todo tipo de caracteres.\n",
        "  bio=(''.join(random.SystemRandom().choice(string.ascii_letters + string.digits) for i in range(length_of_string)))\n",
        "  #Se guarda el detalle dle rol.\n",
        "  df.detalle_aportacion[i] =bio"
      ],
      "metadata": {
        "id": "_71wYweHF9X3"
      },
      "execution_count": null,
      "outputs": []
    },
    {
      "cell_type": "markdown",
      "source": [
        "**ci_persona**"
      ],
      "metadata": {
        "id": "MoIPNSyI-53h"
      }
    },
    {
      "cell_type": "code",
      "source": [
        "cedula=[]\n",
        "#Cantidad de números para la cadena..\n",
        "size = 10\n",
        "for i in range(0, num_iess):\n",
        "  random.seed(datetime.now())\n",
        "  #Números opcionales para formar la cadena.\n",
        "  valores = [0,1,2,3,4,5,6,7,8,9]\n",
        "  cedula=(''.join([str(random.choice(valores)) for i in range(size)]))\n",
        "  #Se guarda los números en telefonocallcenter.\n",
        "  df.ci_persona[i]=cedula"
      ],
      "metadata": {
        "id": "gNc8Mdmr-zaJ"
      },
      "execution_count": null,
      "outputs": []
    },
    {
      "cell_type": "code",
      "source": [
        "#Eliminar genero, no es necesaerio para esta entidad.\n",
        "del(df['genero'])"
      ],
      "metadata": {
        "id": "T230rfIn_a-X"
      },
      "execution_count": null,
      "outputs": []
    },
    {
      "cell_type": "code",
      "source": [
        "#Visualizar en la tabla los datos generados antes de descargar el excel.\n",
        "df.head(5)"
      ],
      "metadata": {
        "colab": {
          "base_uri": "https://localhost:8080/",
          "height": 270
        },
        "id": "fC00_2kR_eWB",
        "outputId": "e0d6d386-01a0-4b6a-c60a-32c514b98b49"
      },
      "execution_count": null,
      "outputs": [
        {
          "output_type": "execute_result",
          "data": {
            "text/plain": [
              "                      id_aportacion fecha_aportacion no_aportacion  \\\n",
              "0  7de7130897bd4a779995f09b0390d67d       2021-02-06            20   \n",
              "1  2da7d8d3664343a7b66079e63e0d5438       2021-03-28            71   \n",
              "2  c6df8f27e81a40a8bed10b8391cab2db       2021-07-18            72   \n",
              "3  16e50e1f8d51438197b5837f91119f00       2021-05-02            41   \n",
              "4  d65f0ba7134e4473ae683777b96aa304       2022-03-16            02   \n",
              "\n",
              "          detalle_aportacion monto_aportacion  ci_persona  \n",
              "0  WakCWjwFtKnMDIdTrzC2heGVD              490  9583889921  \n",
              "1  d7S2yItsF51UOwRSOXCifsLMJ              713  5063208418  \n",
              "2  uI6DrNXrEJsajbypUbRZlkmuX              634  3322348282  \n",
              "3  EMlmDihbsvSTxWWYEMjslDgWA              017  4176892598  \n",
              "4  wrJpbpJpaj7Bs3u83i0whv3LG              244  0634047397  "
            ],
            "text/html": [
              "\n",
              "  <div id=\"df-5bca1cc4-7b32-4525-9ff1-f3e6c4f5350a\">\n",
              "    <div class=\"colab-df-container\">\n",
              "      <div>\n",
              "<style scoped>\n",
              "    .dataframe tbody tr th:only-of-type {\n",
              "        vertical-align: middle;\n",
              "    }\n",
              "\n",
              "    .dataframe tbody tr th {\n",
              "        vertical-align: top;\n",
              "    }\n",
              "\n",
              "    .dataframe thead th {\n",
              "        text-align: right;\n",
              "    }\n",
              "</style>\n",
              "<table border=\"1\" class=\"dataframe\">\n",
              "  <thead>\n",
              "    <tr style=\"text-align: right;\">\n",
              "      <th></th>\n",
              "      <th>id_aportacion</th>\n",
              "      <th>fecha_aportacion</th>\n",
              "      <th>no_aportacion</th>\n",
              "      <th>detalle_aportacion</th>\n",
              "      <th>monto_aportacion</th>\n",
              "      <th>ci_persona</th>\n",
              "    </tr>\n",
              "  </thead>\n",
              "  <tbody>\n",
              "    <tr>\n",
              "      <th>0</th>\n",
              "      <td>7de7130897bd4a779995f09b0390d67d</td>\n",
              "      <td>2021-02-06</td>\n",
              "      <td>20</td>\n",
              "      <td>WakCWjwFtKnMDIdTrzC2heGVD</td>\n",
              "      <td>490</td>\n",
              "      <td>9583889921</td>\n",
              "    </tr>\n",
              "    <tr>\n",
              "      <th>1</th>\n",
              "      <td>2da7d8d3664343a7b66079e63e0d5438</td>\n",
              "      <td>2021-03-28</td>\n",
              "      <td>71</td>\n",
              "      <td>d7S2yItsF51UOwRSOXCifsLMJ</td>\n",
              "      <td>713</td>\n",
              "      <td>5063208418</td>\n",
              "    </tr>\n",
              "    <tr>\n",
              "      <th>2</th>\n",
              "      <td>c6df8f27e81a40a8bed10b8391cab2db</td>\n",
              "      <td>2021-07-18</td>\n",
              "      <td>72</td>\n",
              "      <td>uI6DrNXrEJsajbypUbRZlkmuX</td>\n",
              "      <td>634</td>\n",
              "      <td>3322348282</td>\n",
              "    </tr>\n",
              "    <tr>\n",
              "      <th>3</th>\n",
              "      <td>16e50e1f8d51438197b5837f91119f00</td>\n",
              "      <td>2021-05-02</td>\n",
              "      <td>41</td>\n",
              "      <td>EMlmDihbsvSTxWWYEMjslDgWA</td>\n",
              "      <td>017</td>\n",
              "      <td>4176892598</td>\n",
              "    </tr>\n",
              "    <tr>\n",
              "      <th>4</th>\n",
              "      <td>d65f0ba7134e4473ae683777b96aa304</td>\n",
              "      <td>2022-03-16</td>\n",
              "      <td>02</td>\n",
              "      <td>wrJpbpJpaj7Bs3u83i0whv3LG</td>\n",
              "      <td>244</td>\n",
              "      <td>0634047397</td>\n",
              "    </tr>\n",
              "  </tbody>\n",
              "</table>\n",
              "</div>\n",
              "      <button class=\"colab-df-convert\" onclick=\"convertToInteractive('df-5bca1cc4-7b32-4525-9ff1-f3e6c4f5350a')\"\n",
              "              title=\"Convert this dataframe to an interactive table.\"\n",
              "              style=\"display:none;\">\n",
              "        \n",
              "  <svg xmlns=\"http://www.w3.org/2000/svg\" height=\"24px\"viewBox=\"0 0 24 24\"\n",
              "       width=\"24px\">\n",
              "    <path d=\"M0 0h24v24H0V0z\" fill=\"none\"/>\n",
              "    <path d=\"M18.56 5.44l.94 2.06.94-2.06 2.06-.94-2.06-.94-.94-2.06-.94 2.06-2.06.94zm-11 1L8.5 8.5l.94-2.06 2.06-.94-2.06-.94L8.5 2.5l-.94 2.06-2.06.94zm10 10l.94 2.06.94-2.06 2.06-.94-2.06-.94-.94-2.06-.94 2.06-2.06.94z\"/><path d=\"M17.41 7.96l-1.37-1.37c-.4-.4-.92-.59-1.43-.59-.52 0-1.04.2-1.43.59L10.3 9.45l-7.72 7.72c-.78.78-.78 2.05 0 2.83L4 21.41c.39.39.9.59 1.41.59.51 0 1.02-.2 1.41-.59l7.78-7.78 2.81-2.81c.8-.78.8-2.07 0-2.86zM5.41 20L4 18.59l7.72-7.72 1.47 1.35L5.41 20z\"/>\n",
              "  </svg>\n",
              "      </button>\n",
              "      \n",
              "  <style>\n",
              "    .colab-df-container {\n",
              "      display:flex;\n",
              "      flex-wrap:wrap;\n",
              "      gap: 12px;\n",
              "    }\n",
              "\n",
              "    .colab-df-convert {\n",
              "      background-color: #E8F0FE;\n",
              "      border: none;\n",
              "      border-radius: 50%;\n",
              "      cursor: pointer;\n",
              "      display: none;\n",
              "      fill: #1967D2;\n",
              "      height: 32px;\n",
              "      padding: 0 0 0 0;\n",
              "      width: 32px;\n",
              "    }\n",
              "\n",
              "    .colab-df-convert:hover {\n",
              "      background-color: #E2EBFA;\n",
              "      box-shadow: 0px 1px 2px rgba(60, 64, 67, 0.3), 0px 1px 3px 1px rgba(60, 64, 67, 0.15);\n",
              "      fill: #174EA6;\n",
              "    }\n",
              "\n",
              "    [theme=dark] .colab-df-convert {\n",
              "      background-color: #3B4455;\n",
              "      fill: #D2E3FC;\n",
              "    }\n",
              "\n",
              "    [theme=dark] .colab-df-convert:hover {\n",
              "      background-color: #434B5C;\n",
              "      box-shadow: 0px 1px 3px 1px rgba(0, 0, 0, 0.15);\n",
              "      filter: drop-shadow(0px 1px 2px rgba(0, 0, 0, 0.3));\n",
              "      fill: #FFFFFF;\n",
              "    }\n",
              "  </style>\n",
              "\n",
              "      <script>\n",
              "        const buttonEl =\n",
              "          document.querySelector('#df-5bca1cc4-7b32-4525-9ff1-f3e6c4f5350a button.colab-df-convert');\n",
              "        buttonEl.style.display =\n",
              "          google.colab.kernel.accessAllowed ? 'block' : 'none';\n",
              "\n",
              "        async function convertToInteractive(key) {\n",
              "          const element = document.querySelector('#df-5bca1cc4-7b32-4525-9ff1-f3e6c4f5350a');\n",
              "          const dataTable =\n",
              "            await google.colab.kernel.invokeFunction('convertToInteractive',\n",
              "                                                     [key], {});\n",
              "          if (!dataTable) return;\n",
              "\n",
              "          const docLinkHtml = 'Like what you see? Visit the ' +\n",
              "            '<a target=\"_blank\" href=https://colab.research.google.com/notebooks/data_table.ipynb>data table notebook</a>'\n",
              "            + ' to learn more about interactive tables.';\n",
              "          element.innerHTML = '';\n",
              "          dataTable['output_type'] = 'display_data';\n",
              "          await google.colab.output.renderOutput(dataTable, element);\n",
              "          const docLink = document.createElement('div');\n",
              "          docLink.innerHTML = docLinkHtml;\n",
              "          element.appendChild(docLink);\n",
              "        }\n",
              "      </script>\n",
              "    </div>\n",
              "  </div>\n",
              "  "
            ]
          },
          "metadata": {},
          "execution_count": 183
        }
      ]
    },
    {
      "cell_type": "code",
      "source": [
        "#Generar excel de los datos.\n",
        "df.to_csv('Aportacion.csv')"
      ],
      "metadata": {
        "id": "KJQFwu9r_gsH"
      },
      "execution_count": null,
      "outputs": []
    }
  ]
}